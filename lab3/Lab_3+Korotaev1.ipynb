{
 "cells": [
  {
   "cell_type": "markdown",
   "metadata": {},
   "source": [
    "# Машинное обучение"
   ]
  },
  {
   "cell_type": "markdown",
   "metadata": {},
   "source": [
    "# Лабораторная работа №3"
   ]
  },
  {
   "cell_type": "markdown",
   "metadata": {},
   "source": [
    "Выполнил студент группы 15-В-1\n",
    "Коротаев И. А.\n",
    "Вариант №12"
   ]
  },
  {
   "cell_type": "code",
   "execution_count": 1,
   "metadata": {},
   "outputs": [],
   "source": [
    "import numpy as np\n",
    "import pandas as pd\n",
    "import sklearn as sk\n",
    "import seaborn as sns\n",
    "import matplotlib.pyplot as plt\n",
    "\n",
    "from sklearn import linear_model\n",
    "from sklearn.preprocessing import MinMaxScaler\n",
    "from sklearn.model_selection import GridSearchCV\n",
    "from sklearn.preprocessing import PolynomialFeatures\n",
    "from sklearn.model_selection import (cross_val_score, StratifiedKFold,\n",
    "                                     train_test_split)\n",
    "from sklearn.linear_model import LogisticRegression, LogisticRegressionCV\n",
    "\n",
    "from scipy.stats import pearsonr, spearmanr"
   ]
  },
  {
   "cell_type": "markdown",
   "metadata": {},
   "source": [
    "# 1.Изучить набор данных. Создать описание набора данных на русском языке. Описать признаки, используемые в наборе данных (включить полученные описания в отчёт)."
   ]
  },
  {
   "cell_type": "markdown",
   "metadata": {},
   "source": [
    "#### Данные описывают потребление топлива в милях на галон (mpg) у разных автомобилей, что должно быть предсказано с точки зрения 3-х многозначных дискретных и 5-и вещественных атрибутов"
   ]
  },
  {
   "cell_type": "markdown",
   "metadata": {},
   "source": [
    "|  Переменная  | Описание            | Параметр           |\n",
    "|:------------:|---------------------|--------------------|\n",
    "| mpg          | потребление топлива | вещественный       |\n",
    "| cylinders    | число цилиндров     | дискретный         |\n",
    "| displacement | литраж              | вещественный       |\n",
    "| horsepower   | мощность            | вещественный       |\n",
    "| weight       | вес                 | вещественный       |\n",
    "| acceleration | ускорение           | вещественный       |\n",
    "| model year   | год выпуска         | дискретный         |\n",
    "| origin       | место производства  | дискретный         |\n",
    "| car name     | название модели     | строка(уникальная) |"
   ]
  },
  {
   "cell_type": "markdown",
   "metadata": {},
   "source": [
    "Можно убрать столбец car name из датасета, так как он не пригодится при решении задачи регрессии\n",
    "Исходный датасет был представлен в таком виде, что его пришлось видоизменить для возможности считытвания"
   ]
  },
  {
   "cell_type": "code",
   "execution_count": 4,
   "metadata": {},
   "outputs": [],
   "source": [
    "# исходные данные\n",
    "df_name = r'D:\\My\\MO\\LB3\\6_mpg\\auto-mpg.data.txt'\n",
    "# видоизмененный датасет\n",
    "new_df_name = r'D:\\df.txt'\n",
    "# заголовок, который будет добавлен в новый датасет\n",
    "header = 'mpg,cylinders,displacement,horsepower,weight,acceleration,model year,origin,car name\\n'\n",
    "\n",
    "with open(df_name, 'r', newline='') as read_file, \\\n",
    "         open(new_df_name, 'w', newline='') as write_file:\n",
    "    list_lines = read_file.readlines()\n",
    "    # пробежимся по строкам в исходном файле\n",
    "    for i, line in enumerate(list_lines):\n",
    "        # заменим знаки табуляции на запятые\n",
    "        list_lines[i] = line.replace('\\t', ',')\n",
    "        # заменим подряд идущие пробелы на запятые\n",
    "        max_spaces = 7\n",
    "        for spaces_number in reversed(range(2, max_spaces)):\n",
    "            spaces = ' '*spaces_number\n",
    "            list_lines[i] = list_lines[i].replace(spaces, ',')\n",
    "        list_lines[i] = list_lines[i].replace('?', '')\n",
    "        list_lines[i] = list_lines[i].replace(',,', ',')\n",
    "    # запишем полученные строки и заголовок в новый файл\n",
    "    write_file.write(header)\n",
    "    write_file.writelines(list_lines)"
   ]
  },
  {
   "cell_type": "code",
   "execution_count": 8,
   "metadata": {},
   "outputs": [
    {
     "data": {
      "text/html": [
       "<div>\n",
       "<style>\n",
       "    .dataframe thead tr:only-child th {\n",
       "        text-align: right;\n",
       "    }\n",
       "\n",
       "    .dataframe thead th {\n",
       "        text-align: left;\n",
       "    }\n",
       "\n",
       "    .dataframe tbody tr th {\n",
       "        vertical-align: top;\n",
       "    }\n",
       "</style>\n",
       "<table border=\"1\" class=\"dataframe\">\n",
       "  <thead>\n",
       "    <tr style=\"text-align: right;\">\n",
       "      <th></th>\n",
       "      <th>mpg</th>\n",
       "      <th>cylinders</th>\n",
       "      <th>displacement</th>\n",
       "      <th>horsepower</th>\n",
       "      <th>weight</th>\n",
       "      <th>acceleration</th>\n",
       "      <th>model year</th>\n",
       "      <th>origin</th>\n",
       "    </tr>\n",
       "  </thead>\n",
       "  <tbody>\n",
       "    <tr>\n",
       "      <th>0</th>\n",
       "      <td>18.0</td>\n",
       "      <td>8</td>\n",
       "      <td>307.0</td>\n",
       "      <td>130.0</td>\n",
       "      <td>3504.0</td>\n",
       "      <td>12.0</td>\n",
       "      <td>70</td>\n",
       "      <td>1</td>\n",
       "    </tr>\n",
       "    <tr>\n",
       "      <th>1</th>\n",
       "      <td>15.0</td>\n",
       "      <td>8</td>\n",
       "      <td>350.0</td>\n",
       "      <td>165.0</td>\n",
       "      <td>3693.0</td>\n",
       "      <td>11.5</td>\n",
       "      <td>70</td>\n",
       "      <td>1</td>\n",
       "    </tr>\n",
       "    <tr>\n",
       "      <th>2</th>\n",
       "      <td>18.0</td>\n",
       "      <td>8</td>\n",
       "      <td>318.0</td>\n",
       "      <td>150.0</td>\n",
       "      <td>3436.0</td>\n",
       "      <td>11.0</td>\n",
       "      <td>70</td>\n",
       "      <td>1</td>\n",
       "    </tr>\n",
       "    <tr>\n",
       "      <th>3</th>\n",
       "      <td>16.0</td>\n",
       "      <td>8</td>\n",
       "      <td>304.0</td>\n",
       "      <td>150.0</td>\n",
       "      <td>3433.0</td>\n",
       "      <td>12.0</td>\n",
       "      <td>70</td>\n",
       "      <td>1</td>\n",
       "    </tr>\n",
       "    <tr>\n",
       "      <th>4</th>\n",
       "      <td>17.0</td>\n",
       "      <td>8</td>\n",
       "      <td>302.0</td>\n",
       "      <td>140.0</td>\n",
       "      <td>3449.0</td>\n",
       "      <td>10.5</td>\n",
       "      <td>70</td>\n",
       "      <td>1</td>\n",
       "    </tr>\n",
       "  </tbody>\n",
       "</table>\n",
       "</div>"
      ],
      "text/plain": [
       "    mpg  cylinders  displacement  horsepower  weight  acceleration  \\\n",
       "0  18.0          8         307.0       130.0  3504.0          12.0   \n",
       "1  15.0          8         350.0       165.0  3693.0          11.5   \n",
       "2  18.0          8         318.0       150.0  3436.0          11.0   \n",
       "3  16.0          8         304.0       150.0  3433.0          12.0   \n",
       "4  17.0          8         302.0       140.0  3449.0          10.5   \n",
       "\n",
       "   model year  origin  \n",
       "0          70       1  \n",
       "1          70       1  \n",
       "2          70       1  \n",
       "3          70       1  \n",
       "4          70       1  "
      ]
     },
     "execution_count": 8,
     "metadata": {},
     "output_type": "execute_result"
    }
   ],
   "source": [
    "df = pd.read_csv(new_df_name, sep=',')\n",
    "df.drop('car name', axis=1, inplace=True)\n",
    "df.head()"
   ]
  },
  {
   "cell_type": "code",
   "execution_count": 9,
   "metadata": {},
   "outputs": [
    {
     "name": "stdout",
     "output_type": "stream",
     "text": [
      "dataset size:  (398, 8)\n"
     ]
    },
    {
     "data": {
      "text/plain": [
       "mpg             398\n",
       "cylinders       398\n",
       "displacement    398\n",
       "horsepower      392\n",
       "weight          398\n",
       "acceleration    398\n",
       "model year      398\n",
       "origin          398\n",
       "dtype: int64"
      ]
     },
     "execution_count": 9,
     "metadata": {},
     "output_type": "execute_result"
    }
   ],
   "source": [
    "print('dataset size: ', df.shape)\n",
    "df.count()"
   ]
  },
  {
   "cell_type": "markdown",
   "metadata": {},
   "source": [
    "# 2.Удалите дубликаты строк в наборе данных; приведите размер набора данных до и после данной операции"
   ]
  },
  {
   "cell_type": "code",
   "execution_count": 10,
   "metadata": {},
   "outputs": [
    {
     "name": "stdout",
     "output_type": "stream",
     "text": [
      "dataset size:  (392, 8)\n"
     ]
    }
   ],
   "source": [
    "df = df.drop_duplicates()\n",
    "df = df.dropna().reset_index(drop=True)\n",
    "print('dataset size: ', df.shape)"
   ]
  },
  {
   "cell_type": "markdown",
   "metadata": {},
   "source": [
    "# 3. Выполните масштабирование количественных признаков; Постройте диаграммы BoxPlot для признаков до и после масштабирования. Выберите способ масштабирования (например, нормализацию или стандартизацию)"
   ]
  },
  {
   "cell_type": "code",
   "execution_count": 13,
   "metadata": {},
   "outputs": [
    {
     "name": "stdout",
     "output_type": "stream",
     "text": [
      "numerical:  ['mpg', 'cylinders', 'displacement', 'horsepower', 'weight', 'acceleration', 'model year', 'origin']\n",
      "categorial:  []\n"
     ]
    }
   ],
   "source": [
    "# выделим категориальные и числовые(количественные) признаки\n",
    "numerical_columns = [i for i in df.columns if df[i].dtype.name != 'object']\n",
    "categorial_columns = [i for i in df.columns if df[i].dtype.name == 'object']\n",
    "\n",
    "print('numerical: ', numerical_columns)\n",
    "print('categorial: ', categorial_columns)"
   ]
  },
  {
   "cell_type": "code",
   "execution_count": 14,
   "metadata": {},
   "outputs": [
    {
     "data": {
      "image/png": "[encoded data removed]",
      "text/plain": [
       "<matplotlib.figure.Figure at 0x80159e8>"
      ]
     },
     "metadata": {},
     "output_type": "display_data"
    }
   ],
   "source": [
    "plt.figure(figsize=(10,6))\n",
    "sns.boxplot(data=df[numerical_columns])\n",
    "plt.show()"
   ]
  },
  {
   "cell_type": "markdown",
   "metadata": {},
   "source": [
    "Место производства обозначено через ключи, поэтому оно должно относится к категориальным признакам. Количество цилиндров имеет несколько типов, промежуточные значения не допускаются. Преобразуем эти столбцы к строковому виду"
   ]
  },
  {
   "cell_type": "code",
   "execution_count": 22,
   "metadata": {},
   "outputs": [
    {
     "name": "stdout",
     "output_type": "stream",
     "text": [
      "numerical:  ['mpg', 'displacement', 'horsepower', 'weight', 'acceleration', 'model year']\n",
      "categorial:  ['cylinders', 'origin']\n"
     ]
    }
   ],
   "source": [
    "df['cylinders'] = df['cylinders'].apply(lambda x: str(x))\n",
    "df['origin'] = df['origin'].apply(lambda x: str(x))\n",
    "\n",
    "#заново выделим категориальные и числовые\n",
    "numerical_columns = [i for i in df.columns if df[i].dtype.name != 'object']\n",
    "categorial_columns = [i for i in df.columns if df[i].dtype.name == 'object']\n",
    "\n",
    "print('numerical: ', numerical_columns)\n",
    "print('categorial: ', categorial_columns)"
   ]
  },
  {
   "cell_type": "markdown",
   "metadata": {},
   "source": [
    "В качестве способа масштабирования выберем метод нормализации"
   ]
  },
  {
   "cell_type": "code",
   "execution_count": 23,
   "metadata": {},
   "outputs": [
    {
     "data": {
      "text/html": [
       "<div>\n",
       "<style>\n",
       "    .dataframe thead tr:only-child th {\n",
       "        text-align: right;\n",
       "    }\n",
       "\n",
       "    .dataframe thead th {\n",
       "        text-align: left;\n",
       "    }\n",
       "\n",
       "    .dataframe tbody tr th {\n",
       "        vertical-align: top;\n",
       "    }\n",
       "</style>\n",
       "<table border=\"1\" class=\"dataframe\">\n",
       "  <thead>\n",
       "    <tr style=\"text-align: right;\">\n",
       "      <th></th>\n",
       "      <th>mpg</th>\n",
       "      <th>cylinders</th>\n",
       "      <th>displacement</th>\n",
       "      <th>horsepower</th>\n",
       "      <th>weight</th>\n",
       "      <th>acceleration</th>\n",
       "      <th>model year</th>\n",
       "      <th>origin</th>\n",
       "    </tr>\n",
       "  </thead>\n",
       "  <tbody>\n",
       "    <tr>\n",
       "      <th>0</th>\n",
       "      <td>0.239362</td>\n",
       "      <td>8</td>\n",
       "      <td>0.617571</td>\n",
       "      <td>0.456522</td>\n",
       "      <td>0.536150</td>\n",
       "      <td>0.238095</td>\n",
       "      <td>0.0</td>\n",
       "      <td>1</td>\n",
       "    </tr>\n",
       "    <tr>\n",
       "      <th>1</th>\n",
       "      <td>0.159574</td>\n",
       "      <td>8</td>\n",
       "      <td>0.728682</td>\n",
       "      <td>0.646739</td>\n",
       "      <td>0.589736</td>\n",
       "      <td>0.208333</td>\n",
       "      <td>0.0</td>\n",
       "      <td>1</td>\n",
       "    </tr>\n",
       "    <tr>\n",
       "      <th>2</th>\n",
       "      <td>0.239362</td>\n",
       "      <td>8</td>\n",
       "      <td>0.645995</td>\n",
       "      <td>0.565217</td>\n",
       "      <td>0.516870</td>\n",
       "      <td>0.178571</td>\n",
       "      <td>0.0</td>\n",
       "      <td>1</td>\n",
       "    </tr>\n",
       "    <tr>\n",
       "      <th>3</th>\n",
       "      <td>0.186170</td>\n",
       "      <td>8</td>\n",
       "      <td>0.609819</td>\n",
       "      <td>0.565217</td>\n",
       "      <td>0.516019</td>\n",
       "      <td>0.238095</td>\n",
       "      <td>0.0</td>\n",
       "      <td>1</td>\n",
       "    </tr>\n",
       "    <tr>\n",
       "      <th>4</th>\n",
       "      <td>0.212766</td>\n",
       "      <td>8</td>\n",
       "      <td>0.604651</td>\n",
       "      <td>0.510870</td>\n",
       "      <td>0.520556</td>\n",
       "      <td>0.148810</td>\n",
       "      <td>0.0</td>\n",
       "      <td>1</td>\n",
       "    </tr>\n",
       "  </tbody>\n",
       "</table>\n",
       "</div>"
      ],
      "text/plain": [
       "        mpg cylinders  displacement  horsepower    weight  acceleration  \\\n",
       "0  0.239362         8      0.617571    0.456522  0.536150      0.238095   \n",
       "1  0.159574         8      0.728682    0.646739  0.589736      0.208333   \n",
       "2  0.239362         8      0.645995    0.565217  0.516870      0.178571   \n",
       "3  0.186170         8      0.609819    0.565217  0.516019      0.238095   \n",
       "4  0.212766         8      0.604651    0.510870  0.520556      0.148810   \n",
       "\n",
       "   model year origin  \n",
       "0         0.0      1  \n",
       "1         0.0      1  \n",
       "2         0.0      1  \n",
       "3         0.0      1  \n",
       "4         0.0      1  "
      ]
     },
     "execution_count": 23,
     "metadata": {},
     "output_type": "execute_result"
    }
   ],
   "source": [
    "scaler = MinMaxScaler()\n",
    "df[numerical_columns] = scaler.fit_transform(df[numerical_columns])\n",
    "df.head()"
   ]
  },
  {
   "cell_type": "code",
   "execution_count": 24,
   "metadata": {},
   "outputs": [
    {
     "data": {
      "image/png": "[encoded data removed]",
      "text/plain": [
       "<matplotlib.figure.Figure at 0x801df60>"
      ]
     },
     "metadata": {},
     "output_type": "display_data"
    }
   ],
   "source": [
    "plt.figure(figsize=(10,6))\n",
    "sns.boxplot(data=df[numerical_columns])\n",
    "plt.show()"
   ]
  },
  {
   "cell_type": "markdown",
   "metadata": {},
   "source": [
    "# 4. Выполните замену категориальных признаков; выберите и обоснуйте способ замены"
   ]
  },
  {
   "cell_type": "code",
   "execution_count": 28,
   "metadata": {},
   "outputs": [
    {
     "name": "stdout",
     "output_type": "stream",
     "text": [
      "cylinders :  ['8' '4' '6' '3' '5']\n",
      "origin :  ['1' '3' '2']\n"
     ]
    }
   ],
   "source": [
    "# выведем уникальные значения \n",
    "for i in categorial_columns:\n",
    "    print(i,': ', df[i].unique())"
   ]
  },
  {
   "cell_type": "code",
   "execution_count": 29,
   "metadata": {},
   "outputs": [
    {
     "name": "stdout",
     "output_type": "stream",
     "text": [
      "(392, 14)\n"
     ]
    },
    {
     "data": {
      "text/html": [
       "<div>\n",
       "<style>\n",
       "    .dataframe thead tr:only-child th {\n",
       "        text-align: right;\n",
       "    }\n",
       "\n",
       "    .dataframe thead th {\n",
       "        text-align: left;\n",
       "    }\n",
       "\n",
       "    .dataframe tbody tr th {\n",
       "        vertical-align: top;\n",
       "    }\n",
       "</style>\n",
       "<table border=\"1\" class=\"dataframe\">\n",
       "  <thead>\n",
       "    <tr style=\"text-align: right;\">\n",
       "      <th></th>\n",
       "      <th>cylinders_3</th>\n",
       "      <th>cylinders_4</th>\n",
       "      <th>cylinders_5</th>\n",
       "      <th>cylinders_6</th>\n",
       "      <th>cylinders_8</th>\n",
       "      <th>origin_1</th>\n",
       "      <th>origin_2</th>\n",
       "      <th>origin_3</th>\n",
       "      <th>mpg</th>\n",
       "      <th>displacement</th>\n",
       "      <th>horsepower</th>\n",
       "      <th>weight</th>\n",
       "      <th>acceleration</th>\n",
       "      <th>model year</th>\n",
       "    </tr>\n",
       "  </thead>\n",
       "  <tbody>\n",
       "    <tr>\n",
       "      <th>0</th>\n",
       "      <td>0</td>\n",
       "      <td>0</td>\n",
       "      <td>0</td>\n",
       "      <td>0</td>\n",
       "      <td>1</td>\n",
       "      <td>1</td>\n",
       "      <td>0</td>\n",
       "      <td>0</td>\n",
       "      <td>0.239362</td>\n",
       "      <td>0.617571</td>\n",
       "      <td>0.456522</td>\n",
       "      <td>0.536150</td>\n",
       "      <td>0.238095</td>\n",
       "      <td>0.0</td>\n",
       "    </tr>\n",
       "    <tr>\n",
       "      <th>1</th>\n",
       "      <td>0</td>\n",
       "      <td>0</td>\n",
       "      <td>0</td>\n",
       "      <td>0</td>\n",
       "      <td>1</td>\n",
       "      <td>1</td>\n",
       "      <td>0</td>\n",
       "      <td>0</td>\n",
       "      <td>0.159574</td>\n",
       "      <td>0.728682</td>\n",
       "      <td>0.646739</td>\n",
       "      <td>0.589736</td>\n",
       "      <td>0.208333</td>\n",
       "      <td>0.0</td>\n",
       "    </tr>\n",
       "    <tr>\n",
       "      <th>2</th>\n",
       "      <td>0</td>\n",
       "      <td>0</td>\n",
       "      <td>0</td>\n",
       "      <td>0</td>\n",
       "      <td>1</td>\n",
       "      <td>1</td>\n",
       "      <td>0</td>\n",
       "      <td>0</td>\n",
       "      <td>0.239362</td>\n",
       "      <td>0.645995</td>\n",
       "      <td>0.565217</td>\n",
       "      <td>0.516870</td>\n",
       "      <td>0.178571</td>\n",
       "      <td>0.0</td>\n",
       "    </tr>\n",
       "    <tr>\n",
       "      <th>3</th>\n",
       "      <td>0</td>\n",
       "      <td>0</td>\n",
       "      <td>0</td>\n",
       "      <td>0</td>\n",
       "      <td>1</td>\n",
       "      <td>1</td>\n",
       "      <td>0</td>\n",
       "      <td>0</td>\n",
       "      <td>0.186170</td>\n",
       "      <td>0.609819</td>\n",
       "      <td>0.565217</td>\n",
       "      <td>0.516019</td>\n",
       "      <td>0.238095</td>\n",
       "      <td>0.0</td>\n",
       "    </tr>\n",
       "    <tr>\n",
       "      <th>4</th>\n",
       "      <td>0</td>\n",
       "      <td>0</td>\n",
       "      <td>0</td>\n",
       "      <td>0</td>\n",
       "      <td>1</td>\n",
       "      <td>1</td>\n",
       "      <td>0</td>\n",
       "      <td>0</td>\n",
       "      <td>0.212766</td>\n",
       "      <td>0.604651</td>\n",
       "      <td>0.510870</td>\n",
       "      <td>0.520556</td>\n",
       "      <td>0.148810</td>\n",
       "      <td>0.0</td>\n",
       "    </tr>\n",
       "  </tbody>\n",
       "</table>\n",
       "</div>"
      ],
      "text/plain": [
       "   cylinders_3  cylinders_4  cylinders_5  cylinders_6  cylinders_8  origin_1  \\\n",
       "0            0            0            0            0            1         1   \n",
       "1            0            0            0            0            1         1   \n",
       "2            0            0            0            0            1         1   \n",
       "3            0            0            0            0            1         1   \n",
       "4            0            0            0            0            1         1   \n",
       "\n",
       "   origin_2  origin_3       mpg  displacement  horsepower    weight  \\\n",
       "0         0         0  0.239362      0.617571    0.456522  0.536150   \n",
       "1         0         0  0.159574      0.728682    0.646739  0.589736   \n",
       "2         0         0  0.239362      0.645995    0.565217  0.516870   \n",
       "3         0         0  0.186170      0.609819    0.565217  0.516019   \n",
       "4         0         0  0.212766      0.604651    0.510870  0.520556   \n",
       "\n",
       "   acceleration  model year  \n",
       "0      0.238095         0.0  \n",
       "1      0.208333         0.0  \n",
       "2      0.178571         0.0  \n",
       "3      0.238095         0.0  \n",
       "4      0.148810         0.0  "
      ]
     },
     "execution_count": 29,
     "metadata": {},
     "output_type": "execute_result"
    }
   ],
   "source": [
    "df_categorial = pd.get_dummies(df[categorial_columns])\n",
    "df.drop(categorial_columns, axis=1, inplace=True)\n",
    "df = pd.concat([df_categorial, df] , axis=1)\n",
    "\n",
    "print(df.shape)\n",
    "df.head()"
   ]
  },
  {
   "cell_type": "markdown",
   "metadata": {},
   "source": [
    "# 5. Оцените корреляцию между признаков и удалите те признаки, которые коррелируют с наибольшим числом других"
   ]
  },
  {
   "cell_type": "code",
   "execution_count": 30,
   "metadata": {},
   "outputs": [
    {
     "data": {
      "image/png": "[encoded data removed]",
      "text/plain": [
       "<matplotlib.figure.Figure at 0xd4f2710>"
      ]
     },
     "metadata": {},
     "output_type": "display_data"
    }
   ],
   "source": [
    "df_corr = df.drop('mpg', axis=1).corr()\n",
    "sns.heatmap(df_corr)\n",
    "plt.show()"
   ]
  },
  {
   "cell_type": "code",
   "execution_count": 31,
   "metadata": {},
   "outputs": [
    {
     "data": {
      "text/html": [
       "<div>\n",
       "<style>\n",
       "    .dataframe thead tr:only-child th {\n",
       "        text-align: right;\n",
       "    }\n",
       "\n",
       "    .dataframe thead th {\n",
       "        text-align: left;\n",
       "    }\n",
       "\n",
       "    .dataframe tbody tr th {\n",
       "        vertical-align: top;\n",
       "    }\n",
       "</style>\n",
       "<table border=\"1\" class=\"dataframe\">\n",
       "  <thead>\n",
       "    <tr style=\"text-align: right;\">\n",
       "      <th></th>\n",
       "      <th>cylinders_3</th>\n",
       "      <th>cylinders_4</th>\n",
       "      <th>cylinders_5</th>\n",
       "      <th>cylinders_6</th>\n",
       "      <th>cylinders_8</th>\n",
       "      <th>origin_1</th>\n",
       "      <th>origin_2</th>\n",
       "      <th>origin_3</th>\n",
       "      <th>displacement</th>\n",
       "      <th>horsepower</th>\n",
       "      <th>weight</th>\n",
       "      <th>acceleration</th>\n",
       "      <th>model year</th>\n",
       "    </tr>\n",
       "  </thead>\n",
       "  <tbody>\n",
       "    <tr>\n",
       "      <th>cylinders_3</th>\n",
       "      <td>1.000000</td>\n",
       "      <td>-0.103101</td>\n",
       "      <td>-0.008917</td>\n",
       "      <td>-0.052623</td>\n",
       "      <td>-0.060616</td>\n",
       "      <td>-0.131081</td>\n",
       "      <td>-0.046515</td>\n",
       "      <td>0.202103</td>\n",
       "      <td>-0.118441</td>\n",
       "      <td>-0.013786</td>\n",
       "      <td>-0.069310</td>\n",
       "      <td>-0.084436</td>\n",
       "      <td>-0.013236</td>\n",
       "    </tr>\n",
       "    <tr>\n",
       "      <th>cylinders_4</th>\n",
       "      <td>-0.103101</td>\n",
       "      <td>1.000000</td>\n",
       "      <td>-0.089173</td>\n",
       "      <td>-0.526269</td>\n",
       "      <td>-0.606202</td>\n",
       "      <td>-0.583651</td>\n",
       "      <td>0.356833</td>\n",
       "      <td>0.367556</td>\n",
       "      <td>-0.823346</td>\n",
       "      <td>-0.691741</td>\n",
       "      <td>-0.804941</td>\n",
       "      <td>0.383486</td>\n",
       "      <td>0.289958</td>\n",
       "    </tr>\n",
       "    <tr>\n",
       "      <th>cylinders_5</th>\n",
       "      <td>-0.008917</td>\n",
       "      <td>-0.089173</td>\n",
       "      <td>1.000000</td>\n",
       "      <td>-0.045514</td>\n",
       "      <td>-0.052427</td>\n",
       "      <td>-0.113373</td>\n",
       "      <td>0.191692</td>\n",
       "      <td>-0.044119</td>\n",
       "      <td>-0.041520</td>\n",
       "      <td>-0.050568</td>\n",
       "      <td>0.013018</td>\n",
       "      <td>0.098549</td>\n",
       "      <td>0.072097</td>\n",
       "    </tr>\n",
       "    <tr>\n",
       "      <th>cylinders_6</th>\n",
       "      <td>-0.052623</td>\n",
       "      <td>-0.526269</td>\n",
       "      <td>-0.045514</td>\n",
       "      <td>1.000000</td>\n",
       "      <td>-0.309407</td>\n",
       "      <td>0.272473</td>\n",
       "      <td>-0.171470</td>\n",
       "      <td>-0.166979</td>\n",
       "      <td>0.118767</td>\n",
       "      <td>-0.039952</td>\n",
       "      <td>0.137179</td>\n",
       "      <td>0.134093</td>\n",
       "      <td>-0.003914</td>\n",
       "    </tr>\n",
       "    <tr>\n",
       "      <th>cylinders_8</th>\n",
       "      <td>-0.060616</td>\n",
       "      <td>-0.606202</td>\n",
       "      <td>-0.052427</td>\n",
       "      <td>-0.309407</td>\n",
       "      <td>1.000000</td>\n",
       "      <td>0.462429</td>\n",
       "      <td>-0.273496</td>\n",
       "      <td>-0.299924</td>\n",
       "      <td>0.860257</td>\n",
       "      <td>0.835989</td>\n",
       "      <td>0.800244</td>\n",
       "      <td>-0.560300</td>\n",
       "      <td>-0.336981</td>\n",
       "    </tr>\n",
       "    <tr>\n",
       "      <th>origin_1</th>\n",
       "      <td>-0.131081</td>\n",
       "      <td>-0.583651</td>\n",
       "      <td>-0.113373</td>\n",
       "      <td>0.272473</td>\n",
       "      <td>0.462429</td>\n",
       "      <td>1.000000</td>\n",
       "      <td>-0.591434</td>\n",
       "      <td>-0.648583</td>\n",
       "      <td>0.655936</td>\n",
       "      <td>0.489625</td>\n",
       "      <td>0.600978</td>\n",
       "      <td>-0.258224</td>\n",
       "      <td>-0.136065</td>\n",
       "    </tr>\n",
       "    <tr>\n",
       "      <th>origin_2</th>\n",
       "      <td>-0.046515</td>\n",
       "      <td>0.356833</td>\n",
       "      <td>0.191692</td>\n",
       "      <td>-0.171470</td>\n",
       "      <td>-0.273496</td>\n",
       "      <td>-0.591434</td>\n",
       "      <td>1.000000</td>\n",
       "      <td>-0.230157</td>\n",
       "      <td>-0.371633</td>\n",
       "      <td>-0.284948</td>\n",
       "      <td>-0.293841</td>\n",
       "      <td>0.208298</td>\n",
       "      <td>-0.037745</td>\n",
       "    </tr>\n",
       "    <tr>\n",
       "      <th>origin_3</th>\n",
       "      <td>0.202103</td>\n",
       "      <td>0.367556</td>\n",
       "      <td>-0.044119</td>\n",
       "      <td>-0.166979</td>\n",
       "      <td>-0.299924</td>\n",
       "      <td>-0.648583</td>\n",
       "      <td>-0.230157</td>\n",
       "      <td>1.000000</td>\n",
       "      <td>-0.440825</td>\n",
       "      <td>-0.321936</td>\n",
       "      <td>-0.447929</td>\n",
       "      <td>0.115020</td>\n",
       "      <td>0.199841</td>\n",
       "    </tr>\n",
       "    <tr>\n",
       "      <th>displacement</th>\n",
       "      <td>-0.118441</td>\n",
       "      <td>-0.823346</td>\n",
       "      <td>-0.041520</td>\n",
       "      <td>0.118767</td>\n",
       "      <td>0.860257</td>\n",
       "      <td>0.655936</td>\n",
       "      <td>-0.371633</td>\n",
       "      <td>-0.440825</td>\n",
       "      <td>1.000000</td>\n",
       "      <td>0.897257</td>\n",
       "      <td>0.932994</td>\n",
       "      <td>-0.543800</td>\n",
       "      <td>-0.369855</td>\n",
       "    </tr>\n",
       "    <tr>\n",
       "      <th>horsepower</th>\n",
       "      <td>-0.013786</td>\n",
       "      <td>-0.691741</td>\n",
       "      <td>-0.050568</td>\n",
       "      <td>-0.039952</td>\n",
       "      <td>0.835989</td>\n",
       "      <td>0.489625</td>\n",
       "      <td>-0.284948</td>\n",
       "      <td>-0.321936</td>\n",
       "      <td>0.897257</td>\n",
       "      <td>1.000000</td>\n",
       "      <td>0.864538</td>\n",
       "      <td>-0.689196</td>\n",
       "      <td>-0.416361</td>\n",
       "    </tr>\n",
       "    <tr>\n",
       "      <th>weight</th>\n",
       "      <td>-0.069310</td>\n",
       "      <td>-0.804941</td>\n",
       "      <td>0.013018</td>\n",
       "      <td>0.137179</td>\n",
       "      <td>0.800244</td>\n",
       "      <td>0.600978</td>\n",
       "      <td>-0.293841</td>\n",
       "      <td>-0.447929</td>\n",
       "      <td>0.932994</td>\n",
       "      <td>0.864538</td>\n",
       "      <td>1.000000</td>\n",
       "      <td>-0.416839</td>\n",
       "      <td>-0.309120</td>\n",
       "    </tr>\n",
       "    <tr>\n",
       "      <th>acceleration</th>\n",
       "      <td>-0.084436</td>\n",
       "      <td>0.383486</td>\n",
       "      <td>0.098549</td>\n",
       "      <td>0.134093</td>\n",
       "      <td>-0.560300</td>\n",
       "      <td>-0.258224</td>\n",
       "      <td>0.208298</td>\n",
       "      <td>0.115020</td>\n",
       "      <td>-0.543800</td>\n",
       "      <td>-0.689196</td>\n",
       "      <td>-0.416839</td>\n",
       "      <td>1.000000</td>\n",
       "      <td>0.290316</td>\n",
       "    </tr>\n",
       "    <tr>\n",
       "      <th>model year</th>\n",
       "      <td>-0.013236</td>\n",
       "      <td>0.289958</td>\n",
       "      <td>0.072097</td>\n",
       "      <td>-0.003914</td>\n",
       "      <td>-0.336981</td>\n",
       "      <td>-0.136065</td>\n",
       "      <td>-0.037745</td>\n",
       "      <td>0.199841</td>\n",
       "      <td>-0.369855</td>\n",
       "      <td>-0.416361</td>\n",
       "      <td>-0.309120</td>\n",
       "      <td>0.290316</td>\n",
       "      <td>1.000000</td>\n",
       "    </tr>\n",
       "  </tbody>\n",
       "</table>\n",
       "</div>"
      ],
      "text/plain": [
       "              cylinders_3  cylinders_4  cylinders_5  cylinders_6  cylinders_8  \\\n",
       "cylinders_3      1.000000    -0.103101    -0.008917    -0.052623    -0.060616   \n",
       "cylinders_4     -0.103101     1.000000    -0.089173    -0.526269    -0.606202   \n",
       "cylinders_5     -0.008917    -0.089173     1.000000    -0.045514    -0.052427   \n",
       "cylinders_6     -0.052623    -0.526269    -0.045514     1.000000    -0.309407   \n",
       "cylinders_8     -0.060616    -0.606202    -0.052427    -0.309407     1.000000   \n",
       "origin_1        -0.131081    -0.583651    -0.113373     0.272473     0.462429   \n",
       "origin_2        -0.046515     0.356833     0.191692    -0.171470    -0.273496   \n",
       "origin_3         0.202103     0.367556    -0.044119    -0.166979    -0.299924   \n",
       "displacement    -0.118441    -0.823346    -0.041520     0.118767     0.860257   \n",
       "horsepower      -0.013786    -0.691741    -0.050568    -0.039952     0.835989   \n",
       "weight          -0.069310    -0.804941     0.013018     0.137179     0.800244   \n",
       "acceleration    -0.084436     0.383486     0.098549     0.134093    -0.560300   \n",
       "model year      -0.013236     0.289958     0.072097    -0.003914    -0.336981   \n",
       "\n",
       "              origin_1  origin_2  origin_3  displacement  horsepower  \\\n",
       "cylinders_3  -0.131081 -0.046515  0.202103     -0.118441   -0.013786   \n",
       "cylinders_4  -0.583651  0.356833  0.367556     -0.823346   -0.691741   \n",
       "cylinders_5  -0.113373  0.191692 -0.044119     -0.041520   -0.050568   \n",
       "cylinders_6   0.272473 -0.171470 -0.166979      0.118767   -0.039952   \n",
       "cylinders_8   0.462429 -0.273496 -0.299924      0.860257    0.835989   \n",
       "origin_1      1.000000 -0.591434 -0.648583      0.655936    0.489625   \n",
       "origin_2     -0.591434  1.000000 -0.230157     -0.371633   -0.284948   \n",
       "origin_3     -0.648583 -0.230157  1.000000     -0.440825   -0.321936   \n",
       "displacement  0.655936 -0.371633 -0.440825      1.000000    0.897257   \n",
       "horsepower    0.489625 -0.284948 -0.321936      0.897257    1.000000   \n",
       "weight        0.600978 -0.293841 -0.447929      0.932994    0.864538   \n",
       "acceleration -0.258224  0.208298  0.115020     -0.543800   -0.689196   \n",
       "model year   -0.136065 -0.037745  0.199841     -0.369855   -0.416361   \n",
       "\n",
       "                weight  acceleration  model year  \n",
       "cylinders_3  -0.069310     -0.084436   -0.013236  \n",
       "cylinders_4  -0.804941      0.383486    0.289958  \n",
       "cylinders_5   0.013018      0.098549    0.072097  \n",
       "cylinders_6   0.137179      0.134093   -0.003914  \n",
       "cylinders_8   0.800244     -0.560300   -0.336981  \n",
       "origin_1      0.600978     -0.258224   -0.136065  \n",
       "origin_2     -0.293841      0.208298   -0.037745  \n",
       "origin_3     -0.447929      0.115020    0.199841  \n",
       "displacement  0.932994     -0.543800   -0.369855  \n",
       "horsepower    0.864538     -0.689196   -0.416361  \n",
       "weight        1.000000     -0.416839   -0.309120  \n",
       "acceleration -0.416839      1.000000    0.290316  \n",
       "model year   -0.309120      0.290316    1.000000  "
      ]
     },
     "execution_count": 31,
     "metadata": {},
     "output_type": "execute_result"
    }
   ],
   "source": [
    "df_corr"
   ]
  },
  {
   "cell_type": "markdown",
   "metadata": {},
   "source": [
    "По диаграмме видно, что литраж сильно коррелирует с мощностью, весом, и ускорением. Поэтому удалим этот параметр из датасета"
   ]
  },
  {
   "cell_type": "code",
   "execution_count": 32,
   "metadata": {},
   "outputs": [],
   "source": [
    "df.drop('displacement', axis=1, inplace=True)"
   ]
  },
  {
   "cell_type": "markdown",
   "metadata": {},
   "source": [
    "# 6. Заполните пропущенные значения в данных"
   ]
  },
  {
   "cell_type": "code",
   "execution_count": 40,
   "metadata": {},
   "outputs": [
    {
     "name": "stdout",
     "output_type": "stream",
     "text": [
      "dataset size:  (392, 13)\n"
     ]
    },
    {
     "data": {
      "text/plain": [
       "cylinders_3     392\n",
       "cylinders_4     392\n",
       "cylinders_5     392\n",
       "cylinders_6     392\n",
       "cylinders_8     392\n",
       "origin_1        392\n",
       "origin_2        392\n",
       "origin_3        392\n",
       "mpg             392\n",
       "horsepower      392\n",
       "weight          392\n",
       "acceleration    392\n",
       "model year      392\n",
       "dtype: int64"
      ]
     },
     "execution_count": 40,
     "metadata": {},
     "output_type": "execute_result"
    }
   ],
   "source": [
    "print('dataset size: ', df.shape)\n",
    "df.count()"
   ]
  },
  {
   "cell_type": "markdown",
   "metadata": {},
   "source": [
    "# 7.Решите поставленную задачу регрессии в соответствии с заданием"
   ]
  },
  {
   "cell_type": "markdown",
   "metadata": {},
   "source": [
    "1. Линейная регрессия без использования регуляризаторов\n",
    "2. Линейная регрессия, RIDGE регуляризатор"
   ]
  },
  {
   "cell_type": "code",
   "execution_count": 41,
   "metadata": {},
   "outputs": [],
   "source": [
    "# разделим полученные данные на данные для обучения и теста\n",
    "X, y = df.drop('mpg', axis=1), df['mpg']\n",
    "X_train, X_test, y_train, y_test = train_test_split(X, y, test_size = 0.3, random_state = 42)"
   ]
  },
  {
   "cell_type": "markdown",
   "metadata": {},
   "source": [
    "Линейная регрессия без использования регуляризаторов"
   ]
  },
  {
   "cell_type": "code",
   "execution_count": 42,
   "metadata": {},
   "outputs": [
    {
     "name": "stdout",
     "output_type": "stream",
     "text": [
      "78     0.036154\n",
      "274    0.141944\n",
      "246   -0.038860\n",
      "55    -0.013163\n",
      "387    0.050573\n",
      "203    0.076956\n",
      "42    -0.099059\n",
      "233    0.132345\n",
      "150    0.006503\n",
      "116    0.036200\n",
      "9     -0.073881\n",
      "208    0.128574\n",
      "287    0.009864\n",
      "165    0.030097\n",
      "275    0.132974\n",
      "Name: mpg, dtype: float64\n"
     ]
    }
   ],
   "source": [
    "regr = linear_model.LinearRegression()\n",
    "regr.fit(X_train,y_train)\n",
    "pred_regr = regr.predict(X_test)\n",
    "print(pred_regr[:15] - y_test[:15])"
   ]
  },
  {
   "cell_type": "code",
   "execution_count": 43,
   "metadata": {},
   "outputs": [
    {
     "name": "stdout",
     "output_type": "stream",
     "text": [
      "pearson correlation:  0.921980379433\n",
      "spearmen correlation:  0.948606682706\n"
     ]
    }
   ],
   "source": [
    "corr = {}\n",
    "corr['pearson'], _ = pearsonr(pred_regr, y_test)\n",
    "corr['spearman'], _ = spearmanr(pred_regr, y_test)\n",
    "print('pearson correlation: ', corr['pearson'])\n",
    "print('spearmen correlation: ', corr['spearman'])"
   ]
  },
  {
   "cell_type": "markdown",
   "metadata": {},
   "source": [
    "Линейная регрессия, RIDGE регуляризатор"
   ]
  },
  {
   "cell_type": "code",
   "execution_count": 45,
   "metadata": {},
   "outputs": [
    {
     "name": "stdout",
     "output_type": "stream",
     "text": [
      "best alpha: 0.25\n"
     ]
    }
   ],
   "source": [
    "import warnings\n",
    "warnings.filterwarnings(\"ignore\")\n",
    "\n",
    "regr = linear_model.Ridge()\n",
    "params = {'alpha': np.arange(0, 3, 0.05)}\n",
    "regr_grid = GridSearchCV(regr, params)\n",
    "regr_grid.fit(X_train, y_train)\n",
    "best_alpha = regr_grid.best_estimator_.alpha\n",
    "print('best alpha:', best_alpha)"
   ]
  },
  {
   "cell_type": "code",
   "execution_count": 46,
   "metadata": {},
   "outputs": [
    {
     "name": "stdout",
     "output_type": "stream",
     "text": [
      "78     0.035924\n",
      "274    0.147798\n",
      "246   -0.041637\n",
      "55    -0.014783\n",
      "387    0.057387\n",
      "203    0.078698\n",
      "42    -0.093571\n",
      "233    0.135064\n",
      "150    0.005453\n",
      "116    0.031890\n",
      "9     -0.078107\n",
      "208    0.124958\n",
      "287    0.009155\n",
      "165    0.032157\n",
      "275    0.131835\n",
      "Name: mpg, dtype: float64\n"
     ]
    }
   ],
   "source": [
    "regr = linear_model.Ridge(alpha=best_alpha)\n",
    "regr.fit(X_train,y_train)\n",
    "pred_regr = regr.predict(X_test)\n",
    "print(pred_regr[:15] - y_test[:15])"
   ]
  },
  {
   "cell_type": "code",
   "execution_count": 51,
   "metadata": {},
   "outputs": [
    {
     "name": "stdout",
     "output_type": "stream",
     "text": [
      "pearson correlation:  0.92124949167\n",
      "spearmen correlation:  0.947618266896\n"
     ]
    }
   ],
   "source": [
    "corr = {}\n",
    "corr['pearson'], _ = pearsonr(pred_regr, y_test)\n",
    "corr['spearman'], _ = spearmanr(pred_regr, y_test)\n",
    "print('pearson correlation: ', corr['pearson'])\n",
    "print('spearmen correlation: ', corr['spearman'])"
   ]
  },
  {
   "cell_type": "code",
   "execution_count": null,
   "metadata": {},
   "outputs": [],
   "source": []
  }
 ],
 "metadata": {
  "kernelspec": {
   "display_name": "Python 3",
   "language": "python",
   "name": "python3"
  },
  "language_info": {
   "codemirror_mode": {
    "name": "ipython",
    "version": 3
   },
   "file_extension": ".py",
   "mimetype": "text/x-python",
   "name": "python",
   "nbconvert_exporter": "python",
   "pygments_lexer": "ipython3",
   "version": "3.5.4"
  }
 },
 "nbformat": 4,
 "nbformat_minor": 2
}
