{
 "cells": [
  {
   "cell_type": "markdown",
   "metadata": {},
   "source": [
    "## Лабораторная работа №3. \n",
    "### Вариант 6.<br> Выполнил Пухов Артём.<br> Группа 15-В-2"
   ]
  },
  {
   "cell_type": "code",
   "execution_count": 42,
   "metadata": {},
   "outputs": [],
   "source": [
    "import numpy as np\n",
    "import pandas as pd\n",
    "import sklearn as sk\n",
    "import seaborn as sns\n",
    "import matplotlib.pyplot as plt\n",
    "\n",
    "from sklearn import linear_model\n",
    "from sklearn.preprocessing import MinMaxScaler\n",
    "from sklearn.model_selection import GridSearchCV\n",
    "from sklearn.preprocessing import PolynomialFeatures\n",
    "from sklearn.model_selection import (cross_val_score, StratifiedKFold,\n",
    "                                     train_test_split)\n",
    "from sklearn.linear_model import LogisticRegression, LogisticRegressionCV\n",
    "\n",
    "from scipy.stats import pearsonr, spearmanr"
   ]
  },
  {
   "cell_type": "code",
   "execution_count": 43,
   "metadata": {},
   "outputs": [],
   "source": [
    "# исходные данные\n",
    "df_name = r'airfoil_self_noise.dat.txt'\n",
    "# видоизмененный датасет\n",
    "new_df_name = 'df.txt'\n",
    "# заголовок, который будет добавлен в новый датасет\n",
    "header = 'Frequency,Angle of attack,Chord length,Free-stream velocity,Suction side displacement thickness,Scaled sound pre ssure level\\n'\n",
    "\n",
    "with open(df_name, 'r', newline='') as read_file, \\\n",
    "         open(new_df_name, 'w', newline='') as write_file:\n",
    "    list_lines = read_file.readlines()\n",
    "    # пробежимся по строкам в исходном файле\n",
    "    for i, line in enumerate(list_lines):\n",
    "        # заменим знаки табуляции на запятые\n",
    "        list_lines[i] = line.replace('\\t', ',')\n",
    "        # заменим подряд идущие пробелы на запятые\n",
    "        max_spaces = 7\n",
    "        for spaces_number in reversed(range(2, max_spaces)):\n",
    "            spaces = ' '*spaces_number\n",
    "            list_lines[i] = list_lines[i].replace(spaces, ',')\n",
    "        list_lines[i] = list_lines[i].replace('?', '')\n",
    "        list_lines[i] = list_lines[i].replace(',,', ',')\n",
    "    # запишем полученные строки и заголовок в новый файл\n",
    "    write_file.write(header)\n",
    "    write_file.writelines(list_lines)"
   ]
  },
  {
   "cell_type": "markdown",
   "metadata": {},
   "source": [
    "### 1)Изучить набор данных. Создать описание набора данных на русском языке. Описать признаки, используемые в наборе данных (включить полученные описания в отчёт).\n",
    "\n",
    "Набор данных НАСА, полученный из серии аэродинамических и акустических испытаний двух и трехмерных\n",
    "секции лезвия аэродинамического профиля, выполненные в безэховой аэродинамической трубе.\n",
    "\n",
    "\n",
    "|                   Переменная       |                Описание          |        Параметры             | \n",
    "|------------------------------------|----------------------------------|------------------------------|\n",
    "|Frequency         |Частота, в герцах|дискретный|\n",
    "|Angle of attack   | Угол атаки, в градусах|вещественный|\n",
    "|Chord length      |Длина хорды, в метрах|вещественный|\n",
    "|Free-stream velocity|Скорость свободного потока в метрах в секунду|вещественный|\n",
    "|Suction side displacement thickness|Толщина смещения всасывающей стороны, в метрах|вещественный|\n",
    "|Scaled sound pre ssure level|Масштабированный уровень предварительного звука, в децибелах|вещественный|"
   ]
  },
  {
   "cell_type": "code",
   "execution_count": 44,
   "metadata": {},
   "outputs": [
    {
     "data": {
      "text/html": [
       "<div>\n",
       "<style scoped>\n",
       "    .dataframe tbody tr th:only-of-type {\n",
       "        vertical-align: middle;\n",
       "    }\n",
       "\n",
       "    .dataframe tbody tr th {\n",
       "        vertical-align: top;\n",
       "    }\n",
       "\n",
       "    .dataframe thead th {\n",
       "        text-align: right;\n",
       "    }\n",
       "</style>\n",
       "<table border=\"1\" class=\"dataframe\">\n",
       "  <thead>\n",
       "    <tr style=\"text-align: right;\">\n",
       "      <th></th>\n",
       "      <th>Frequency</th>\n",
       "      <th>Angle of attack</th>\n",
       "      <th>Chord length</th>\n",
       "      <th>Free-stream velocity</th>\n",
       "      <th>Suction side displacement thickness</th>\n",
       "      <th>Scaled sound pre ssure level</th>\n",
       "    </tr>\n",
       "  </thead>\n",
       "  <tbody>\n",
       "    <tr>\n",
       "      <th>0</th>\n",
       "      <td>800</td>\n",
       "      <td>0.0</td>\n",
       "      <td>0.3048</td>\n",
       "      <td>71.3</td>\n",
       "      <td>0.002663</td>\n",
       "      <td>126.201</td>\n",
       "    </tr>\n",
       "    <tr>\n",
       "      <th>1</th>\n",
       "      <td>1000</td>\n",
       "      <td>0.0</td>\n",
       "      <td>0.3048</td>\n",
       "      <td>71.3</td>\n",
       "      <td>0.002663</td>\n",
       "      <td>125.201</td>\n",
       "    </tr>\n",
       "    <tr>\n",
       "      <th>2</th>\n",
       "      <td>1250</td>\n",
       "      <td>0.0</td>\n",
       "      <td>0.3048</td>\n",
       "      <td>71.3</td>\n",
       "      <td>0.002663</td>\n",
       "      <td>125.951</td>\n",
       "    </tr>\n",
       "    <tr>\n",
       "      <th>3</th>\n",
       "      <td>1600</td>\n",
       "      <td>0.0</td>\n",
       "      <td>0.3048</td>\n",
       "      <td>71.3</td>\n",
       "      <td>0.002663</td>\n",
       "      <td>127.591</td>\n",
       "    </tr>\n",
       "    <tr>\n",
       "      <th>4</th>\n",
       "      <td>2000</td>\n",
       "      <td>0.0</td>\n",
       "      <td>0.3048</td>\n",
       "      <td>71.3</td>\n",
       "      <td>0.002663</td>\n",
       "      <td>127.461</td>\n",
       "    </tr>\n",
       "  </tbody>\n",
       "</table>\n",
       "</div>"
      ],
      "text/plain": [
       "   Frequency  Angle of attack  Chord length  Free-stream velocity  \\\n",
       "0        800              0.0        0.3048                  71.3   \n",
       "1       1000              0.0        0.3048                  71.3   \n",
       "2       1250              0.0        0.3048                  71.3   \n",
       "3       1600              0.0        0.3048                  71.3   \n",
       "4       2000              0.0        0.3048                  71.3   \n",
       "\n",
       "   Suction side displacement thickness  Scaled sound pre ssure level  \n",
       "0                             0.002663                       126.201  \n",
       "1                             0.002663                       125.201  \n",
       "2                             0.002663                       125.951  \n",
       "3                             0.002663                       127.591  \n",
       "4                             0.002663                       127.461  "
      ]
     },
     "execution_count": 44,
     "metadata": {},
     "output_type": "execute_result"
    }
   ],
   "source": [
    "df = pd.read_csv(new_df_name, sep=',')\n",
    "df.head()"
   ]
  },
  {
   "cell_type": "code",
   "execution_count": 45,
   "metadata": {},
   "outputs": [
    {
     "name": "stdout",
     "output_type": "stream",
     "text": [
      "dataset size:  (1503, 6)\n"
     ]
    },
    {
     "data": {
      "text/plain": [
       "Frequency                              1503\n",
       "Angle of attack                        1503\n",
       "Chord length                           1503\n",
       "Free-stream velocity                   1503\n",
       "Suction side displacement thickness    1503\n",
       "Scaled sound pre ssure level           1503\n",
       "dtype: int64"
      ]
     },
     "execution_count": 45,
     "metadata": {},
     "output_type": "execute_result"
    }
   ],
   "source": [
    "print('dataset size: ', df.shape)\n",
    "df.count()"
   ]
  },
  {
   "cell_type": "markdown",
   "metadata": {},
   "source": [
    "### 2)Удалите дубликаты строк в наборе данных; приведите размер набора данных до и после данной операции"
   ]
  },
  {
   "cell_type": "code",
   "execution_count": 46,
   "metadata": {},
   "outputs": [
    {
     "name": "stdout",
     "output_type": "stream",
     "text": [
      "dataset size:  (1503, 6)\n"
     ]
    }
   ],
   "source": [
    "df = df.drop_duplicates()\n",
    "df = df.dropna().reset_index(drop=True)\n",
    "print('dataset size: ', df.shape)"
   ]
  },
  {
   "cell_type": "markdown",
   "metadata": {},
   "source": [
    "### 3)Выполните масштабирование количественных признаков; Постройте диаграммы BoxPlot для признаков до и после масштабирования. Выберите способ масштабирования (например, нормализацию или стандартизацию)"
   ]
  },
  {
   "cell_type": "code",
   "execution_count": 47,
   "metadata": {},
   "outputs": [
    {
     "name": "stdout",
     "output_type": "stream",
     "text": [
      "numerical:  ['Frequency', 'Angle of attack', 'Chord length', 'Free-stream velocity', 'Suction side displacement thickness', 'Scaled sound pre ssure level']\n",
      "categorial:  []\n"
     ]
    }
   ],
   "source": [
    "# выделим категориальные и числовые(количественные) признаки\n",
    "numerical_columns = [i for i in df.columns if df[i].dtype.name != 'object']\n",
    "categorial_columns = [i for i in df.columns if df[i].dtype.name == 'object']\n",
    "\n",
    "print('numerical: ', numerical_columns)\n",
    "print('categorial: ', categorial_columns)"
   ]
  },
  {
   "cell_type": "code",
   "execution_count": 48,
   "metadata": {},
   "outputs": [
    {
     "data": {
      "image/png": "[encoded data removed]",
      "text/plain": [
       "<matplotlib.figure.Figure at 0xc83e550>"
      ]
     },
     "metadata": {},
     "output_type": "display_data"
    }
   ],
   "source": [
    "plt.figure(figsize=(10,6))\n",
    "sns.boxplot(data=df[numerical_columns])\n",
    "plt.show()"
   ]
  },
  {
   "cell_type": "code",
   "execution_count": 49,
   "metadata": {},
   "outputs": [
    {
     "data": {
      "text/html": [
       "<div>\n",
       "<style scoped>\n",
       "    .dataframe tbody tr th:only-of-type {\n",
       "        vertical-align: middle;\n",
       "    }\n",
       "\n",
       "    .dataframe tbody tr th {\n",
       "        vertical-align: top;\n",
       "    }\n",
       "\n",
       "    .dataframe thead th {\n",
       "        text-align: right;\n",
       "    }\n",
       "</style>\n",
       "<table border=\"1\" class=\"dataframe\">\n",
       "  <thead>\n",
       "    <tr style=\"text-align: right;\">\n",
       "      <th></th>\n",
       "      <th>Frequency</th>\n",
       "      <th>Angle of attack</th>\n",
       "      <th>Chord length</th>\n",
       "      <th>Free-stream velocity</th>\n",
       "      <th>Suction side displacement thickness</th>\n",
       "      <th>Scaled sound pre ssure level</th>\n",
       "    </tr>\n",
       "  </thead>\n",
       "  <tbody>\n",
       "    <tr>\n",
       "      <th>0</th>\n",
       "      <td>0.030303</td>\n",
       "      <td>0.0</td>\n",
       "      <td>1.0</td>\n",
       "      <td>1.0</td>\n",
       "      <td>0.039005</td>\n",
       "      <td>0.606829</td>\n",
       "    </tr>\n",
       "    <tr>\n",
       "      <th>1</th>\n",
       "      <td>0.040404</td>\n",
       "      <td>0.0</td>\n",
       "      <td>1.0</td>\n",
       "      <td>1.0</td>\n",
       "      <td>0.039005</td>\n",
       "      <td>0.580238</td>\n",
       "    </tr>\n",
       "    <tr>\n",
       "      <th>2</th>\n",
       "      <td>0.053030</td>\n",
       "      <td>0.0</td>\n",
       "      <td>1.0</td>\n",
       "      <td>1.0</td>\n",
       "      <td>0.039005</td>\n",
       "      <td>0.600181</td>\n",
       "    </tr>\n",
       "    <tr>\n",
       "      <th>3</th>\n",
       "      <td>0.070707</td>\n",
       "      <td>0.0</td>\n",
       "      <td>1.0</td>\n",
       "      <td>1.0</td>\n",
       "      <td>0.039005</td>\n",
       "      <td>0.643790</td>\n",
       "    </tr>\n",
       "    <tr>\n",
       "      <th>4</th>\n",
       "      <td>0.090909</td>\n",
       "      <td>0.0</td>\n",
       "      <td>1.0</td>\n",
       "      <td>1.0</td>\n",
       "      <td>0.039005</td>\n",
       "      <td>0.640333</td>\n",
       "    </tr>\n",
       "  </tbody>\n",
       "</table>\n",
       "</div>"
      ],
      "text/plain": [
       "   Frequency  Angle of attack  Chord length  Free-stream velocity  \\\n",
       "0   0.030303              0.0           1.0                   1.0   \n",
       "1   0.040404              0.0           1.0                   1.0   \n",
       "2   0.053030              0.0           1.0                   1.0   \n",
       "3   0.070707              0.0           1.0                   1.0   \n",
       "4   0.090909              0.0           1.0                   1.0   \n",
       "\n",
       "   Suction side displacement thickness  Scaled sound pre ssure level  \n",
       "0                             0.039005                      0.606829  \n",
       "1                             0.039005                      0.580238  \n",
       "2                             0.039005                      0.600181  \n",
       "3                             0.039005                      0.643790  \n",
       "4                             0.039005                      0.640333  "
      ]
     },
     "execution_count": 49,
     "metadata": {},
     "output_type": "execute_result"
    }
   ],
   "source": [
    "scaler = MinMaxScaler()\n",
    "df[numerical_columns] = scaler.fit_transform(df[numerical_columns])\n",
    "df.head()"
   ]
  },
  {
   "cell_type": "code",
   "execution_count": 50,
   "metadata": {
    "scrolled": true
   },
   "outputs": [
    {
     "data": {
      "image/png": "[encoded data removed]",
      "text/plain": [
       "<matplotlib.figure.Figure at 0xc83e198>"
      ]
     },
     "metadata": {},
     "output_type": "display_data"
    }
   ],
   "source": [
    "plt.figure(figsize=(20,6))\n",
    "sns.boxplot(data=df[numerical_columns])\n",
    "plt.show()"
   ]
  },
  {
   "cell_type": "markdown",
   "metadata": {},
   "source": [
    "### 4.Выполните замену категориальных признаков; выберите и обоснуйте способ замены\n",
    "категориальных признаков нет"
   ]
  },
  {
   "cell_type": "markdown",
   "metadata": {},
   "source": [
    "### 5.Оцените корреляцию между признаков и удалите те признаки, которые коррелируют с наибольшим числом других"
   ]
  },
  {
   "cell_type": "code",
   "execution_count": 51,
   "metadata": {},
   "outputs": [
    {
     "data": {
      "image/png": "[encoded data removed]",
      "text/plain": [
       "<matplotlib.figure.Figure at 0xeb4b908>"
      ]
     },
     "metadata": {},
     "output_type": "display_data"
    }
   ],
   "source": [
    "df_corr = df.drop('Frequency', axis=1).corr()\n",
    "sns.heatmap(df_corr)\n",
    "plt.show()"
   ]
  },
  {
   "cell_type": "code",
   "execution_count": 52,
   "metadata": {},
   "outputs": [
    {
     "data": {
      "text/html": [
       "<div>\n",
       "<style scoped>\n",
       "    .dataframe tbody tr th:only-of-type {\n",
       "        vertical-align: middle;\n",
       "    }\n",
       "\n",
       "    .dataframe tbody tr th {\n",
       "        vertical-align: top;\n",
       "    }\n",
       "\n",
       "    .dataframe thead th {\n",
       "        text-align: right;\n",
       "    }\n",
       "</style>\n",
       "<table border=\"1\" class=\"dataframe\">\n",
       "  <thead>\n",
       "    <tr style=\"text-align: right;\">\n",
       "      <th></th>\n",
       "      <th>Angle of attack</th>\n",
       "      <th>Chord length</th>\n",
       "      <th>Free-stream velocity</th>\n",
       "      <th>Suction side displacement thickness</th>\n",
       "      <th>Scaled sound pre ssure level</th>\n",
       "    </tr>\n",
       "  </thead>\n",
       "  <tbody>\n",
       "    <tr>\n",
       "      <th>Angle of attack</th>\n",
       "      <td>1.000000</td>\n",
       "      <td>-0.504868</td>\n",
       "      <td>0.058760</td>\n",
       "      <td>0.753394</td>\n",
       "      <td>-0.156108</td>\n",
       "    </tr>\n",
       "    <tr>\n",
       "      <th>Chord length</th>\n",
       "      <td>-0.504868</td>\n",
       "      <td>1.000000</td>\n",
       "      <td>0.003787</td>\n",
       "      <td>-0.220842</td>\n",
       "      <td>-0.236162</td>\n",
       "    </tr>\n",
       "    <tr>\n",
       "      <th>Free-stream velocity</th>\n",
       "      <td>0.058760</td>\n",
       "      <td>0.003787</td>\n",
       "      <td>1.000000</td>\n",
       "      <td>-0.003974</td>\n",
       "      <td>0.125103</td>\n",
       "    </tr>\n",
       "    <tr>\n",
       "      <th>Suction side displacement thickness</th>\n",
       "      <td>0.753394</td>\n",
       "      <td>-0.220842</td>\n",
       "      <td>-0.003974</td>\n",
       "      <td>1.000000</td>\n",
       "      <td>-0.312670</td>\n",
       "    </tr>\n",
       "    <tr>\n",
       "      <th>Scaled sound pre ssure level</th>\n",
       "      <td>-0.156108</td>\n",
       "      <td>-0.236162</td>\n",
       "      <td>0.125103</td>\n",
       "      <td>-0.312670</td>\n",
       "      <td>1.000000</td>\n",
       "    </tr>\n",
       "  </tbody>\n",
       "</table>\n",
       "</div>"
      ],
      "text/plain": [
       "                                     Angle of attack  Chord length  \\\n",
       "Angle of attack                             1.000000     -0.504868   \n",
       "Chord length                               -0.504868      1.000000   \n",
       "Free-stream velocity                        0.058760      0.003787   \n",
       "Suction side displacement thickness         0.753394     -0.220842   \n",
       "Scaled sound pre ssure level               -0.156108     -0.236162   \n",
       "\n",
       "                                     Free-stream velocity  \\\n",
       "Angle of attack                                  0.058760   \n",
       "Chord length                                     0.003787   \n",
       "Free-stream velocity                             1.000000   \n",
       "Suction side displacement thickness             -0.003974   \n",
       "Scaled sound pre ssure level                     0.125103   \n",
       "\n",
       "                                     Suction side displacement thickness  \\\n",
       "Angle of attack                                                 0.753394   \n",
       "Chord length                                                   -0.220842   \n",
       "Free-stream velocity                                           -0.003974   \n",
       "Suction side displacement thickness                             1.000000   \n",
       "Scaled sound pre ssure level                                   -0.312670   \n",
       "\n",
       "                                     Scaled sound pre ssure level  \n",
       "Angle of attack                                         -0.156108  \n",
       "Chord length                                            -0.236162  \n",
       "Free-stream velocity                                     0.125103  \n",
       "Suction side displacement thickness                     -0.312670  \n",
       "Scaled sound pre ssure level                             1.000000  "
      ]
     },
     "execution_count": 52,
     "metadata": {},
     "output_type": "execute_result"
    }
   ],
   "source": [
    "df_corr"
   ]
  },
  {
   "cell_type": "markdown",
   "metadata": {},
   "source": [
    "### 6.Заполните пропущенные значения в данных"
   ]
  },
  {
   "cell_type": "code",
   "execution_count": 53,
   "metadata": {},
   "outputs": [
    {
     "name": "stdout",
     "output_type": "stream",
     "text": [
      "dataset size:  (1503, 6)\n"
     ]
    },
    {
     "data": {
      "text/plain": [
       "Frequency                              1503\n",
       "Angle of attack                        1503\n",
       "Chord length                           1503\n",
       "Free-stream velocity                   1503\n",
       "Suction side displacement thickness    1503\n",
       "Scaled sound pre ssure level           1503\n",
       "dtype: int64"
      ]
     },
     "execution_count": 53,
     "metadata": {},
     "output_type": "execute_result"
    }
   ],
   "source": [
    "print('dataset size: ', df.shape)\n",
    "df.count()"
   ]
  },
  {
   "cell_type": "markdown",
   "metadata": {},
   "source": [
    "### 7.Решите поставленную задачу регрессии в соответствии с заданием.\n",
    "Линейная регрессия без использования регуляризаторов <br>Линейная регрессия, RIDGE регуляризатор\n"
   ]
  },
  {
   "cell_type": "code",
   "execution_count": 54,
   "metadata": {},
   "outputs": [],
   "source": [
    "X, y = df.drop('Frequency', axis=1), df['Frequency']\n",
    "X_train, X_test, y_train, y_test = train_test_split(X, y, test_size = 0.3, random_state = 42)"
   ]
  },
  {
   "cell_type": "markdown",
   "metadata": {},
   "source": [
    "Линейная регрессия без использования регуляризаторов"
   ]
  },
  {
   "cell_type": "code",
   "execution_count": 55,
   "metadata": {},
   "outputs": [
    {
     "name": "stdout",
     "output_type": "stream",
     "text": [
      "51      0.052518\n",
      "1465    0.018939\n",
      "184    -0.012894\n",
      "1000   -0.101735\n",
      "746    -0.072556\n",
      "1032    0.277753\n",
      "925    -0.029951\n",
      "394    -0.089879\n",
      "597     0.087252\n",
      "588     0.069789\n",
      "765     0.193006\n",
      "141    -0.123757\n",
      "1121   -0.026910\n",
      "1061    0.044148\n",
      "415     0.026877\n",
      "Name: Frequency, dtype: float64\n"
     ]
    }
   ],
   "source": [
    "regr = linear_model.LinearRegression()\n",
    "regr.fit(X_train,y_train)\n",
    "pred_regr = regr.predict(X_test)\n",
    "print(pred_regr[:15] - y_test[:15])"
   ]
  },
  {
   "cell_type": "code",
   "execution_count": 56,
   "metadata": {},
   "outputs": [
    {
     "name": "stdout",
     "output_type": "stream",
     "text": [
      "pearson correlation:  0.648742353905\n",
      "spearmen correlation:  0.611921495168\n"
     ]
    }
   ],
   "source": [
    "corr = {}\n",
    "corr['pearson'], _ = pearsonr(pred_regr, y_test)\n",
    "corr['spearman'], _ = spearmanr(pred_regr, y_test)\n",
    "print('pearson correlation: ', corr['pearson'])\n",
    "print('spearmen correlation: ', corr['spearman'])"
   ]
  },
  {
   "cell_type": "markdown",
   "metadata": {},
   "source": [
    "Линейная регрессия, RIDGE регуляризатор"
   ]
  },
  {
   "cell_type": "code",
   "execution_count": 57,
   "metadata": {},
   "outputs": [
    {
     "name": "stdout",
     "output_type": "stream",
     "text": [
      "best alpha: 0.15\n"
     ]
    }
   ],
   "source": [
    "import warnings\n",
    "warnings.filterwarnings(\"ignore\")\n",
    "\n",
    "regr = linear_model.Ridge()\n",
    "params = {'alpha': np.arange(0, 3, 0.05)}\n",
    "regr_grid = GridSearchCV(regr, params)\n",
    "regr_grid.fit(X_train, y_train)\n",
    "best_alpha = regr_grid.best_estimator_.alpha\n",
    "print('best alpha:', best_alpha)"
   ]
  },
  {
   "cell_type": "code",
   "execution_count": 58,
   "metadata": {},
   "outputs": [
    {
     "name": "stdout",
     "output_type": "stream",
     "text": [
      "51      0.053058\n",
      "1465    0.018877\n",
      "184    -0.012580\n",
      "1000   -0.101507\n",
      "746    -0.072669\n",
      "1032    0.276699\n",
      "925    -0.029520\n",
      "394    -0.088398\n",
      "597     0.087669\n",
      "588     0.069851\n",
      "765     0.192372\n",
      "141    -0.124453\n",
      "1121   -0.026292\n",
      "1061    0.044419\n",
      "415     0.027210\n",
      "Name: Frequency, dtype: float64\n"
     ]
    }
   ],
   "source": [
    "regr = linear_model.Ridge(alpha=best_alpha)\n",
    "regr.fit(X_train,y_train)\n",
    "pred_regr = regr.predict(X_test)\n",
    "print(pred_regr[:15] - y_test[:15])"
   ]
  },
  {
   "cell_type": "code",
   "execution_count": 59,
   "metadata": {},
   "outputs": [
    {
     "name": "stdout",
     "output_type": "stream",
     "text": [
      "pearson correlation:  0.648778421206\n",
      "spearmen correlation:  0.6119731963\n"
     ]
    }
   ],
   "source": [
    "corr = {}\n",
    "corr['pearson'], _ = pearsonr(pred_regr, y_test)\n",
    "corr['spearman'], _ = spearmanr(pred_regr, y_test)\n",
    "print('pearson correlation: ', corr['pearson'])\n",
    "print('spearmen correlation: ', corr['spearman'])"
   ]
  },
  {
   "cell_type": "code",
   "execution_count": null,
   "metadata": {},
   "outputs": [],
   "source": []
  }
 ],
 "metadata": {
  "kernelspec": {
   "display_name": "Python 3",
   "language": "python",
   "name": "python3"
  },
  "language_info": {
   "codemirror_mode": {
    "name": "ipython",
    "version": 3
   },
   "file_extension": ".py",
   "mimetype": "text/x-python",
   "name": "python",
   "nbconvert_exporter": "python",
   "pygments_lexer": "ipython3",
   "version": "3.6.3"
  }
 },
 "nbformat": 4,
 "nbformat_minor": 2
}
