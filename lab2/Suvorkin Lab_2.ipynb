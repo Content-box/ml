{
 "cells": [
  {
   "cell_type": "markdown",
   "metadata": {},
   "source": [
    "# 2 Лабораторная работа по машинному обучению\n",
    "## Выполнил студент группы 15-В-1 Суворкин Павел\n",
    "## Вариант 10\n",
    "## Цель лабораторной работы – получение навыков работы с методами классификации."
   ]
  },
  {
   "cell_type": "markdown",
   "metadata": {},
   "source": [
    "## mushrooms\n",
    "## *классификатор K ближайших соседей (задаётся радиус для выбора ближайших объектов)\n",
    "## *логический классификатор (бинарное решающее дерево)\n"
   ]
  },
  {
   "cell_type": "code",
   "execution_count": 1,
   "metadata": {},
   "outputs": [
    {
     "name": "stderr",
     "output_type": "stream",
     "text": [
      "C:\\Users\\Suvor\\Desktop\\Рабочий стол\\WinPython-64bit-3.5.4.0Qt5\\python-3.5.4.amd64\\lib\\site-packages\\sklearn\\cross_validation.py:44: DeprecationWarning: This module was deprecated in version 0.18 in favor of the model_selection module into which all the refactored classes and functions are moved. Also note that the interface of the new CV iterators are different from that of this module. This module will be removed in 0.20.\n",
      "  \"This module will be removed in 0.20.\", DeprecationWarning)\n",
      "C:\\Users\\Suvor\\Desktop\\Рабочий стол\\WinPython-64bit-3.5.4.0Qt5\\python-3.5.4.amd64\\lib\\site-packages\\sklearn\\grid_search.py:43: DeprecationWarning: This module was deprecated in version 0.18 in favor of the model_selection module into which all the refactored classes and functions are moved. This module will be removed in 0.20.\n",
      "  DeprecationWarning)\n"
     ]
    }
   ],
   "source": [
    "import pandas as pd\n",
    "import numpy as np\n",
    "import seaborn as sns\n",
    "import sklearn as sk\n",
    "import matplotlib.pyplot as plt\n",
    "import pylab as pl\n",
    "\n",
    "from sklearn import cross_validation, svm\n",
    "from sklearn.neighbors import KNeighborsClassifier\n",
    "from sklearn.ensemble import RandomForestClassifier\n",
    "from sklearn.linear_model import LogisticRegression\n",
    "from sklearn.metrics import roc_curve, auc\n",
    "\n",
    "from sklearn.preprocessing import LabelEncoder\n",
    "from sklearn.grid_search import GridSearchCV\n",
    "from sklearn.tree import DecisionTreeClassifier\n",
    "from sklearn import neighbors\n",
    "from sklearn.neighbors import RadiusNeighborsClassifier\n",
    "from sklearn.cross_validation import train_test_split\n",
    "from sklearn.model_selection import cross_val_score\n",
    "from sklearn.metrics import (auc, roc_curve, \n",
    "                             precision_recall_curve, \n",
    "                             average_precision_score)\n",
    "\n",
    "df = pd.read_csv('mushrooms.csv')"
   ]
  },
  {
   "cell_type": "code",
   "execution_count": 2,
   "metadata": {},
   "outputs": [
    {
     "data": {
      "text/plain": [
       "(8124, 23)"
      ]
     },
     "execution_count": 2,
     "metadata": {},
     "output_type": "execute_result"
    }
   ],
   "source": [
    "df.shape"
   ]
  },
  {
   "cell_type": "code",
   "execution_count": 3,
   "metadata": {},
   "outputs": [
    {
     "data": {
      "text/plain": [
       "(8124, 23)"
      ]
     },
     "execution_count": 3,
     "metadata": {},
     "output_type": "execute_result"
    }
   ],
   "source": [
    "df = df.drop_duplicates()\n",
    "df = df.dropna()\n",
    "df.shape"
   ]
  },
  {
   "cell_type": "code",
   "execution_count": 4,
   "metadata": {},
   "outputs": [
    {
     "data": {
      "text/html": [
       "<div>\n",
       "<style>\n",
       "    .dataframe thead tr:only-child th {\n",
       "        text-align: right;\n",
       "    }\n",
       "\n",
       "    .dataframe thead th {\n",
       "        text-align: left;\n",
       "    }\n",
       "\n",
       "    .dataframe tbody tr th {\n",
       "        vertical-align: top;\n",
       "    }\n",
       "</style>\n",
       "<table border=\"1\" class=\"dataframe\">\n",
       "  <thead>\n",
       "    <tr style=\"text-align: right;\">\n",
       "      <th></th>\n",
       "      <th>class</th>\n",
       "      <th>cap-shape</th>\n",
       "      <th>cap-surface</th>\n",
       "      <th>cap-color</th>\n",
       "      <th>bruises</th>\n",
       "      <th>odor</th>\n",
       "      <th>gill-attachment</th>\n",
       "      <th>gill-spacing</th>\n",
       "      <th>gill-size</th>\n",
       "      <th>gill-color</th>\n",
       "      <th>...</th>\n",
       "      <th>stalk-surface-below-ring</th>\n",
       "      <th>stalk-color-above-ring</th>\n",
       "      <th>stalk-color-below-ring</th>\n",
       "      <th>veil-type</th>\n",
       "      <th>veil-color</th>\n",
       "      <th>ring-number</th>\n",
       "      <th>ring-type</th>\n",
       "      <th>spore-print-color</th>\n",
       "      <th>population</th>\n",
       "      <th>habitat</th>\n",
       "    </tr>\n",
       "  </thead>\n",
       "  <tbody>\n",
       "    <tr>\n",
       "      <th>0</th>\n",
       "      <td>p</td>\n",
       "      <td>x</td>\n",
       "      <td>s</td>\n",
       "      <td>n</td>\n",
       "      <td>t</td>\n",
       "      <td>p</td>\n",
       "      <td>f</td>\n",
       "      <td>c</td>\n",
       "      <td>n</td>\n",
       "      <td>k</td>\n",
       "      <td>...</td>\n",
       "      <td>s</td>\n",
       "      <td>w</td>\n",
       "      <td>w</td>\n",
       "      <td>p</td>\n",
       "      <td>w</td>\n",
       "      <td>o</td>\n",
       "      <td>p</td>\n",
       "      <td>k</td>\n",
       "      <td>s</td>\n",
       "      <td>u</td>\n",
       "    </tr>\n",
       "    <tr>\n",
       "      <th>1</th>\n",
       "      <td>e</td>\n",
       "      <td>x</td>\n",
       "      <td>s</td>\n",
       "      <td>y</td>\n",
       "      <td>t</td>\n",
       "      <td>a</td>\n",
       "      <td>f</td>\n",
       "      <td>c</td>\n",
       "      <td>b</td>\n",
       "      <td>k</td>\n",
       "      <td>...</td>\n",
       "      <td>s</td>\n",
       "      <td>w</td>\n",
       "      <td>w</td>\n",
       "      <td>p</td>\n",
       "      <td>w</td>\n",
       "      <td>o</td>\n",
       "      <td>p</td>\n",
       "      <td>n</td>\n",
       "      <td>n</td>\n",
       "      <td>g</td>\n",
       "    </tr>\n",
       "    <tr>\n",
       "      <th>2</th>\n",
       "      <td>e</td>\n",
       "      <td>b</td>\n",
       "      <td>s</td>\n",
       "      <td>w</td>\n",
       "      <td>t</td>\n",
       "      <td>l</td>\n",
       "      <td>f</td>\n",
       "      <td>c</td>\n",
       "      <td>b</td>\n",
       "      <td>n</td>\n",
       "      <td>...</td>\n",
       "      <td>s</td>\n",
       "      <td>w</td>\n",
       "      <td>w</td>\n",
       "      <td>p</td>\n",
       "      <td>w</td>\n",
       "      <td>o</td>\n",
       "      <td>p</td>\n",
       "      <td>n</td>\n",
       "      <td>n</td>\n",
       "      <td>m</td>\n",
       "    </tr>\n",
       "    <tr>\n",
       "      <th>3</th>\n",
       "      <td>p</td>\n",
       "      <td>x</td>\n",
       "      <td>y</td>\n",
       "      <td>w</td>\n",
       "      <td>t</td>\n",
       "      <td>p</td>\n",
       "      <td>f</td>\n",
       "      <td>c</td>\n",
       "      <td>n</td>\n",
       "      <td>n</td>\n",
       "      <td>...</td>\n",
       "      <td>s</td>\n",
       "      <td>w</td>\n",
       "      <td>w</td>\n",
       "      <td>p</td>\n",
       "      <td>w</td>\n",
       "      <td>o</td>\n",
       "      <td>p</td>\n",
       "      <td>k</td>\n",
       "      <td>s</td>\n",
       "      <td>u</td>\n",
       "    </tr>\n",
       "    <tr>\n",
       "      <th>4</th>\n",
       "      <td>e</td>\n",
       "      <td>x</td>\n",
       "      <td>s</td>\n",
       "      <td>g</td>\n",
       "      <td>f</td>\n",
       "      <td>n</td>\n",
       "      <td>f</td>\n",
       "      <td>w</td>\n",
       "      <td>b</td>\n",
       "      <td>k</td>\n",
       "      <td>...</td>\n",
       "      <td>s</td>\n",
       "      <td>w</td>\n",
       "      <td>w</td>\n",
       "      <td>p</td>\n",
       "      <td>w</td>\n",
       "      <td>o</td>\n",
       "      <td>e</td>\n",
       "      <td>n</td>\n",
       "      <td>a</td>\n",
       "      <td>g</td>\n",
       "    </tr>\n",
       "  </tbody>\n",
       "</table>\n",
       "<p>5 rows × 23 columns</p>\n",
       "</div>"
      ],
      "text/plain": [
       "  class cap-shape cap-surface cap-color bruises odor gill-attachment  \\\n",
       "0     p         x           s         n       t    p               f   \n",
       "1     e         x           s         y       t    a               f   \n",
       "2     e         b           s         w       t    l               f   \n",
       "3     p         x           y         w       t    p               f   \n",
       "4     e         x           s         g       f    n               f   \n",
       "\n",
       "  gill-spacing gill-size gill-color   ...   stalk-surface-below-ring  \\\n",
       "0            c         n          k   ...                          s   \n",
       "1            c         b          k   ...                          s   \n",
       "2            c         b          n   ...                          s   \n",
       "3            c         n          n   ...                          s   \n",
       "4            w         b          k   ...                          s   \n",
       "\n",
       "  stalk-color-above-ring stalk-color-below-ring veil-type veil-color  \\\n",
       "0                      w                      w         p          w   \n",
       "1                      w                      w         p          w   \n",
       "2                      w                      w         p          w   \n",
       "3                      w                      w         p          w   \n",
       "4                      w                      w         p          w   \n",
       "\n",
       "  ring-number ring-type spore-print-color population habitat  \n",
       "0           o         p                 k          s       u  \n",
       "1           o         p                 n          n       g  \n",
       "2           o         p                 n          n       m  \n",
       "3           o         p                 k          s       u  \n",
       "4           o         e                 n          a       g  \n",
       "\n",
       "[5 rows x 23 columns]"
      ]
     },
     "execution_count": 4,
     "metadata": {},
     "output_type": "execute_result"
    }
   ],
   "source": [
    "df.head()\n"
   ]
  },
  {
   "cell_type": "markdown",
   "metadata": {},
   "source": [
    "### 3.\tОцените сбалансированность данных по классам (постройте гистограмму). Используйте полученную информацию при выборе метрики оценки качества классификации (PR или ROC кривая)"
   ]
  },
  {
   "cell_type": "code",
   "execution_count": 5,
   "metadata": {},
   "outputs": [
    {
     "data": {
      "image/png": "[encoded data removed]",
      "text/plain": [
       "<matplotlib.figure.Figure at 0x26021eb4cc0>"
      ]
     },
     "metadata": {},
     "output_type": "display_data"
    }
   ],
   "source": [
    "%matplotlib inline\n",
    "df['class'].value_counts().plot.barh()\n",
    "plt.show()\n",
    "\n",
    "# roc - баланс"
   ]
  },
  {
   "cell_type": "markdown",
   "metadata": {},
   "source": [
    "### 4.\tВыполните масштабирование количественных признаков;"
   ]
  },
  {
   "cell_type": "markdown",
   "metadata": {},
   "source": [
    "Не требуется, т.к. в данном набореданных нет количественных признаков"
   ]
  },
  {
   "cell_type": "markdown",
   "metadata": {},
   "source": [
    "### 5.\tВыполните замену категориальных признаков;"
   ]
  },
  {
   "cell_type": "code",
   "execution_count": 6,
   "metadata": {},
   "outputs": [],
   "source": [
    "df.nunique()\n",
    "df.drop('veil-type', axis = 1, inplace = True)"
   ]
  },
  {
   "cell_type": "code",
   "execution_count": 7,
   "metadata": {},
   "outputs": [
    {
     "name": "stdout",
     "output_type": "stream",
     "text": [
      "{0: 'f', 1: 't'}\n"
     ]
    },
    {
     "data": {
      "image/png": "[encoded data removed]",
      "text/plain": [
       "<matplotlib.figure.Figure at 0x2602232be48>"
      ]
     },
     "metadata": {},
     "output_type": "display_data"
    }
   ],
   "source": [
    "label_encoder = LabelEncoder()\n",
    "\n",
    "mapped_education = pd.Series(label_encoder.fit_transform(df['bruises']))\n",
    "mapped_education.value_counts().plot.barh()\n",
    "print(dict(enumerate(label_encoder.classes_)))"
   ]
  },
  {
   "cell_type": "code",
   "execution_count": 8,
   "metadata": {},
   "outputs": [
    {
     "data": {
      "text/html": [
       "<div>\n",
       "<style>\n",
       "    .dataframe thead tr:only-child th {\n",
       "        text-align: right;\n",
       "    }\n",
       "\n",
       "    .dataframe thead th {\n",
       "        text-align: left;\n",
       "    }\n",
       "\n",
       "    .dataframe tbody tr th {\n",
       "        vertical-align: top;\n",
       "    }\n",
       "</style>\n",
       "<table border=\"1\" class=\"dataframe\">\n",
       "  <thead>\n",
       "    <tr style=\"text-align: right;\">\n",
       "      <th></th>\n",
       "      <th>class</th>\n",
       "      <th>cap-shape</th>\n",
       "      <th>cap-surface</th>\n",
       "      <th>cap-color</th>\n",
       "      <th>bruises</th>\n",
       "      <th>odor</th>\n",
       "      <th>gill-attachment</th>\n",
       "      <th>gill-spacing</th>\n",
       "      <th>gill-size</th>\n",
       "      <th>gill-color</th>\n",
       "      <th>...</th>\n",
       "      <th>stalk-surface-above-ring</th>\n",
       "      <th>stalk-surface-below-ring</th>\n",
       "      <th>stalk-color-above-ring</th>\n",
       "      <th>stalk-color-below-ring</th>\n",
       "      <th>veil-color</th>\n",
       "      <th>ring-number</th>\n",
       "      <th>ring-type</th>\n",
       "      <th>spore-print-color</th>\n",
       "      <th>population</th>\n",
       "      <th>habitat</th>\n",
       "    </tr>\n",
       "  </thead>\n",
       "  <tbody>\n",
       "    <tr>\n",
       "      <th>0</th>\n",
       "      <td>1</td>\n",
       "      <td>5</td>\n",
       "      <td>2</td>\n",
       "      <td>4</td>\n",
       "      <td>1</td>\n",
       "      <td>6</td>\n",
       "      <td>1</td>\n",
       "      <td>0</td>\n",
       "      <td>1</td>\n",
       "      <td>4</td>\n",
       "      <td>...</td>\n",
       "      <td>2</td>\n",
       "      <td>2</td>\n",
       "      <td>7</td>\n",
       "      <td>7</td>\n",
       "      <td>2</td>\n",
       "      <td>1</td>\n",
       "      <td>4</td>\n",
       "      <td>2</td>\n",
       "      <td>3</td>\n",
       "      <td>5</td>\n",
       "    </tr>\n",
       "    <tr>\n",
       "      <th>1</th>\n",
       "      <td>0</td>\n",
       "      <td>5</td>\n",
       "      <td>2</td>\n",
       "      <td>9</td>\n",
       "      <td>1</td>\n",
       "      <td>0</td>\n",
       "      <td>1</td>\n",
       "      <td>0</td>\n",
       "      <td>0</td>\n",
       "      <td>4</td>\n",
       "      <td>...</td>\n",
       "      <td>2</td>\n",
       "      <td>2</td>\n",
       "      <td>7</td>\n",
       "      <td>7</td>\n",
       "      <td>2</td>\n",
       "      <td>1</td>\n",
       "      <td>4</td>\n",
       "      <td>3</td>\n",
       "      <td>2</td>\n",
       "      <td>1</td>\n",
       "    </tr>\n",
       "    <tr>\n",
       "      <th>2</th>\n",
       "      <td>0</td>\n",
       "      <td>0</td>\n",
       "      <td>2</td>\n",
       "      <td>8</td>\n",
       "      <td>1</td>\n",
       "      <td>3</td>\n",
       "      <td>1</td>\n",
       "      <td>0</td>\n",
       "      <td>0</td>\n",
       "      <td>5</td>\n",
       "      <td>...</td>\n",
       "      <td>2</td>\n",
       "      <td>2</td>\n",
       "      <td>7</td>\n",
       "      <td>7</td>\n",
       "      <td>2</td>\n",
       "      <td>1</td>\n",
       "      <td>4</td>\n",
       "      <td>3</td>\n",
       "      <td>2</td>\n",
       "      <td>3</td>\n",
       "    </tr>\n",
       "    <tr>\n",
       "      <th>3</th>\n",
       "      <td>1</td>\n",
       "      <td>5</td>\n",
       "      <td>3</td>\n",
       "      <td>8</td>\n",
       "      <td>1</td>\n",
       "      <td>6</td>\n",
       "      <td>1</td>\n",
       "      <td>0</td>\n",
       "      <td>1</td>\n",
       "      <td>5</td>\n",
       "      <td>...</td>\n",
       "      <td>2</td>\n",
       "      <td>2</td>\n",
       "      <td>7</td>\n",
       "      <td>7</td>\n",
       "      <td>2</td>\n",
       "      <td>1</td>\n",
       "      <td>4</td>\n",
       "      <td>2</td>\n",
       "      <td>3</td>\n",
       "      <td>5</td>\n",
       "    </tr>\n",
       "    <tr>\n",
       "      <th>4</th>\n",
       "      <td>0</td>\n",
       "      <td>5</td>\n",
       "      <td>2</td>\n",
       "      <td>3</td>\n",
       "      <td>0</td>\n",
       "      <td>5</td>\n",
       "      <td>1</td>\n",
       "      <td>1</td>\n",
       "      <td>0</td>\n",
       "      <td>4</td>\n",
       "      <td>...</td>\n",
       "      <td>2</td>\n",
       "      <td>2</td>\n",
       "      <td>7</td>\n",
       "      <td>7</td>\n",
       "      <td>2</td>\n",
       "      <td>1</td>\n",
       "      <td>0</td>\n",
       "      <td>3</td>\n",
       "      <td>0</td>\n",
       "      <td>1</td>\n",
       "    </tr>\n",
       "  </tbody>\n",
       "</table>\n",
       "<p>5 rows × 22 columns</p>\n",
       "</div>"
      ],
      "text/plain": [
       "   class  cap-shape  cap-surface  cap-color  bruises  odor  gill-attachment  \\\n",
       "0      1          5            2          4        1     6                1   \n",
       "1      0          5            2          9        1     0                1   \n",
       "2      0          0            2          8        1     3                1   \n",
       "3      1          5            3          8        1     6                1   \n",
       "4      0          5            2          3        0     5                1   \n",
       "\n",
       "   gill-spacing  gill-size  gill-color   ...     stalk-surface-above-ring  \\\n",
       "0             0          1           4   ...                            2   \n",
       "1             0          0           4   ...                            2   \n",
       "2             0          0           5   ...                            2   \n",
       "3             0          1           5   ...                            2   \n",
       "4             1          0           4   ...                            2   \n",
       "\n",
       "   stalk-surface-below-ring  stalk-color-above-ring  stalk-color-below-ring  \\\n",
       "0                         2                       7                       7   \n",
       "1                         2                       7                       7   \n",
       "2                         2                       7                       7   \n",
       "3                         2                       7                       7   \n",
       "4                         2                       7                       7   \n",
       "\n",
       "   veil-color  ring-number  ring-type  spore-print-color  population  habitat  \n",
       "0           2            1          4                  2           3        5  \n",
       "1           2            1          4                  3           2        1  \n",
       "2           2            1          4                  3           2        3  \n",
       "3           2            1          4                  2           3        5  \n",
       "4           2            1          0                  3           0        1  \n",
       "\n",
       "[5 rows x 22 columns]"
      ]
     },
     "execution_count": 8,
     "metadata": {},
     "output_type": "execute_result"
    }
   ],
   "source": [
    "categorical_columns = df.columns[df.dtypes == 'object'].union(['bruises'])\n",
    "for column in categorical_columns:\n",
    "    df[column] = label_encoder.fit_transform(df[column])\n",
    "df.head()"
   ]
  },
  {
   "cell_type": "markdown",
   "metadata": {},
   "source": [
    "### 6.\tОцените корреляцию между признаков и удалите те признаки, которые коррелируют с наибольшим числом других (удалять признаки нужно только для линейных методов классификации);"
   ]
  },
  {
   "cell_type": "code",
   "execution_count": 9,
   "metadata": {},
   "outputs": [
    {
     "name": "stdout",
     "output_type": "stream",
     "text": [
      "                          cap-shape  cap-surface  cap-color   bruises  \\\n",
      "cap-shape                  1.000000    -0.050454  -0.048203 -0.035374   \n",
      "cap-surface               -0.050454     1.000000  -0.019402  0.070228   \n",
      "cap-color                 -0.048203    -0.019402   1.000000 -0.000764   \n",
      "bruises                   -0.035374     0.070228  -0.000764  1.000000   \n",
      "odor                      -0.021935     0.045233  -0.387121 -0.061825   \n",
      "gill-attachment            0.078865    -0.034180   0.041436  0.137359   \n",
      "gill-spacing               0.013196    -0.282306   0.144259 -0.299473   \n",
      "gill-size                  0.054050     0.208100  -0.169464 -0.369596   \n",
      "gill-color                -0.006039    -0.161017   0.084659  0.527120   \n",
      "stalk-shape                0.063794    -0.014123  -0.456496  0.099364   \n",
      "stalk-root                 0.030191    -0.126245   0.321274  0.244188   \n",
      "stalk-surface-above-ring  -0.030417     0.089090  -0.060837  0.460824   \n",
      "stalk-surface-below-ring  -0.032591     0.107965  -0.047710  0.458983   \n",
      "stalk-color-above-ring    -0.031659     0.066050   0.002364  0.083538   \n",
      "stalk-color-below-ring    -0.030390     0.068885   0.008057  0.092874   \n",
      "veil-color                 0.072560    -0.016603   0.036130  0.119770   \n",
      "ring-number               -0.106534    -0.026147  -0.005822  0.056788   \n",
      "ring-type                 -0.025457    -0.106407   0.162513  0.692973   \n",
      "spore-print-color         -0.073416     0.230364  -0.293523 -0.285008   \n",
      "population                 0.063413     0.021555  -0.144770  0.088137   \n",
      "habitat                   -0.042221     0.163887   0.033925 -0.075095   \n",
      "\n",
      "                              odor  gill-attachment  gill-spacing  gill-size  \\\n",
      "cap-shape                -0.021935         0.078865      0.013196   0.054050   \n",
      "cap-surface               0.045233        -0.034180     -0.282306   0.208100   \n",
      "cap-color                -0.387121         0.041436      0.144259  -0.169464   \n",
      "bruises                  -0.061825         0.137359     -0.299473  -0.369596   \n",
      "odor                      1.000000        -0.059590      0.063936   0.310495   \n",
      "gill-attachment          -0.059590         1.000000      0.071489   0.108984   \n",
      "gill-spacing              0.063936         0.071489      1.000000  -0.108333   \n",
      "gill-size                 0.310495         0.108984     -0.108333   1.000000   \n",
      "gill-color               -0.129213        -0.128567      0.100193  -0.516736   \n",
      "stalk-shape               0.459766         0.186485      0.080895   0.214576   \n",
      "stalk-root               -0.205215         0.144063      0.350548  -0.344345   \n",
      "stalk-surface-above-ring  0.118617        -0.088916     -0.212359   0.056310   \n",
      "stalk-surface-below-ring  0.061820        -0.116177     -0.213775   0.010894   \n",
      "stalk-color-above-ring    0.174532         0.099299      0.274574   0.296548   \n",
      "stalk-color-below-ring    0.169407         0.097160      0.253505   0.278708   \n",
      "veil-color               -0.057747         0.897518      0.073363   0.103809   \n",
      "ring-number               0.111905         0.093236      0.243014  -0.171362   \n",
      "ring-type                -0.281387        -0.146689     -0.195897  -0.460872   \n",
      "spore-print-color         0.469055        -0.029524      0.047323   0.622991   \n",
      "population               -0.043623         0.165575     -0.529253   0.147682   \n",
      "habitat                  -0.026610        -0.030304     -0.154680   0.161418   \n",
      "\n",
      "                          gill-color  stalk-shape    ...     \\\n",
      "cap-shape                  -0.006039     0.063794    ...      \n",
      "cap-surface                -0.161017    -0.014123    ...      \n",
      "cap-color                   0.084659    -0.456496    ...      \n",
      "bruises                     0.527120     0.099364    ...      \n",
      "odor                       -0.129213     0.459766    ...      \n",
      "gill-attachment            -0.128567     0.186485    ...      \n",
      "gill-spacing                0.100193     0.080895    ...      \n",
      "gill-size                  -0.516736     0.214576    ...      \n",
      "gill-color                  1.000000    -0.175699    ...      \n",
      "stalk-shape                -0.175699     1.000000    ...      \n",
      "stalk-root                  0.315080    -0.163422    ...      \n",
      "stalk-surface-above-ring    0.224287     0.015193    ...      \n",
      "stalk-surface-below-ring    0.257224    -0.034399    ...      \n",
      "stalk-color-above-ring     -0.058299     0.223439    ...      \n",
      "stalk-color-below-ring     -0.074781     0.235794    ...      \n",
      "veil-color                 -0.097583     0.162604    ...      \n",
      "ring-number                 0.096054    -0.293221    ...      \n",
      "ring-type                   0.629398    -0.291444    ...      \n",
      "spore-print-color          -0.416135     0.258831    ...      \n",
      "population                 -0.034090     0.087383    ...      \n",
      "habitat                    -0.202972    -0.269216    ...      \n",
      "\n",
      "                          stalk-surface-above-ring  stalk-surface-below-ring  \\\n",
      "cap-shape                                -0.030417                 -0.032591   \n",
      "cap-surface                               0.089090                  0.107965   \n",
      "cap-color                                -0.060837                 -0.047710   \n",
      "bruises                                   0.460824                  0.458983   \n",
      "odor                                      0.118617                  0.061820   \n",
      "gill-attachment                          -0.088916                 -0.116177   \n",
      "gill-spacing                             -0.212359                 -0.213775   \n",
      "gill-size                                 0.056310                  0.010894   \n",
      "gill-color                                0.224287                  0.257224   \n",
      "stalk-shape                               0.015193                 -0.034399   \n",
      "stalk-root                               -0.027065                  0.087454   \n",
      "stalk-surface-above-ring                  1.000000                  0.437164   \n",
      "stalk-surface-below-ring                  0.437164                  1.000000   \n",
      "stalk-color-above-ring                    0.132708                  0.106933   \n",
      "stalk-color-below-ring                    0.142835                  0.110656   \n",
      "veil-color                               -0.090591                 -0.077284   \n",
      "ring-number                               0.107904                  0.040006   \n",
      "ring-type                                 0.390091                  0.394644   \n",
      "spore-print-color                         0.100764                  0.130974   \n",
      "population                                0.079604                  0.046797   \n",
      "habitat                                  -0.058076                 -0.039628   \n",
      "\n",
      "                          stalk-color-above-ring  stalk-color-below-ring  \\\n",
      "cap-shape                              -0.031659               -0.030390   \n",
      "cap-surface                             0.066050                0.068885   \n",
      "cap-color                               0.002364                0.008057   \n",
      "bruises                                 0.083538                0.092874   \n",
      "odor                                    0.174532                0.169407   \n",
      "gill-attachment                         0.099299                0.097160   \n",
      "gill-spacing                            0.274574                0.253505   \n",
      "gill-size                               0.296548                0.278708   \n",
      "gill-color                             -0.058299               -0.074781   \n",
      "stalk-shape                             0.223439                0.235794   \n",
      "stalk-root                              0.157140                0.159805   \n",
      "stalk-surface-above-ring                0.132708                0.142835   \n",
      "stalk-surface-below-ring                0.106933                0.110656   \n",
      "stalk-color-above-ring                  1.000000                0.491510   \n",
      "stalk-color-below-ring                  0.491510                1.000000   \n",
      "veil-color                              0.067377                0.065567   \n",
      "ring-number                             0.084917                0.087580   \n",
      "ring-type                              -0.048878               -0.034284   \n",
      "spore-print-color                       0.271533                0.254518   \n",
      "population                             -0.240261               -0.242792   \n",
      "habitat                                 0.042561                0.041594   \n",
      "\n",
      "                          veil-color  ring-number  ring-type  \\\n",
      "cap-shape                   0.072560    -0.106534  -0.025457   \n",
      "cap-surface                -0.016603    -0.026147  -0.106407   \n",
      "cap-color                   0.036130    -0.005822   0.162513   \n",
      "bruises                     0.119770     0.056788   0.692973   \n",
      "odor                       -0.057747     0.111905  -0.281387   \n",
      "gill-attachment             0.897518     0.093236  -0.146689   \n",
      "gill-spacing                0.073363     0.243014  -0.195897   \n",
      "gill-size                   0.103809    -0.171362  -0.460872   \n",
      "gill-color                 -0.097583     0.096054   0.629398   \n",
      "stalk-shape                 0.162604    -0.293221  -0.291444   \n",
      "stalk-root                  0.156213    -0.247357   0.210155   \n",
      "stalk-surface-above-ring   -0.090591     0.107904   0.390091   \n",
      "stalk-surface-below-ring   -0.077284     0.040006   0.394644   \n",
      "stalk-color-above-ring      0.067377     0.084917  -0.048878   \n",
      "stalk-color-below-ring      0.065567     0.087580  -0.034284   \n",
      "veil-color                  1.000000     0.036380  -0.143673   \n",
      "ring-number                 0.036380     1.000000   0.058312   \n",
      "ring-type                  -0.143673     0.058312   1.000000   \n",
      "spore-print-color          -0.003600     0.338417  -0.487048   \n",
      "population                  0.124924    -0.242020   0.211763   \n",
      "habitat                    -0.040581     0.235835  -0.212080   \n",
      "\n",
      "                          spore-print-color  population   habitat  \n",
      "cap-shape                         -0.073416    0.063413 -0.042221  \n",
      "cap-surface                        0.230364    0.021555  0.163887  \n",
      "cap-color                         -0.293523   -0.144770  0.033925  \n",
      "bruises                           -0.285008    0.088137 -0.075095  \n",
      "odor                               0.469055   -0.043623 -0.026610  \n",
      "gill-attachment                   -0.029524    0.165575 -0.030304  \n",
      "gill-spacing                       0.047323   -0.529253 -0.154680  \n",
      "gill-size                          0.622991    0.147682  0.161418  \n",
      "gill-color                        -0.416135   -0.034090 -0.202972  \n",
      "stalk-shape                        0.258831    0.087383 -0.269216  \n",
      "stalk-root                        -0.536996   -0.306747 -0.007668  \n",
      "stalk-surface-above-ring           0.100764    0.079604 -0.058076  \n",
      "stalk-surface-below-ring           0.130974    0.046797 -0.039628  \n",
      "stalk-color-above-ring             0.271533   -0.240261  0.042561  \n",
      "stalk-color-below-ring             0.254518   -0.242792  0.041594  \n",
      "veil-color                        -0.003600    0.124924 -0.040581  \n",
      "ring-number                        0.338417   -0.242020  0.235835  \n",
      "ring-type                         -0.487048    0.211763 -0.212080  \n",
      "spore-print-color                  1.000000   -0.126859  0.185954  \n",
      "population                        -0.126859    1.000000 -0.174529  \n",
      "habitat                            0.185954   -0.174529  1.000000  \n",
      "\n",
      "[21 rows x 21 columns]\n"
     ]
    },
    {
     "data": {
      "image/png": "[encoded data removed]",
      "text/plain": [
       "<matplotlib.figure.Figure at 0x260223df630>"
      ]
     },
     "metadata": {},
     "output_type": "display_data"
    }
   ],
   "source": [
    "corr_matrix = df.drop(['class',], axis=1).corr()\n",
    "sns.heatmap(corr_matrix);\n",
    "print(corr_matrix)"
   ]
  },
  {
   "cell_type": "markdown",
   "metadata": {},
   "source": [
    "### 7.\tЗаполните пропущенные значения в данных; "
   ]
  },
  {
   "cell_type": "markdown",
   "metadata": {},
   "source": [
    "Таких значений нет"
   ]
  },
  {
   "cell_type": "markdown",
   "metadata": {},
   "source": [
    "## 8.\tРешите поставленную задачу классификации в соответствии с заданием. \n",
    "## *классификатор K ближайших соседей (задаётся радиус для выбора ближайших объектов);"
   ]
  },
  {
   "cell_type": "code",
   "execution_count": 10,
   "metadata": {},
   "outputs": [
    {
     "name": "stdout",
     "output_type": "stream",
     "text": [
      "(5686, 21)\n",
      "(2438, 21)\n",
      "best train score: 0.9950756243404854 \t at radius: 3.0\n",
      "test score:  0.996308449549\n"
     ]
    }
   ],
   "source": [
    "df1 = df.copy()\n",
    "X, Y = df.drop('class', axis=1), df['class']\n",
    "X_train, X_test, Y_train, Y_test = train_test_split(X, Y, test_size = 0.3, random_state = 123)\n",
    "print(X_train.shape)\n",
    "print(X_test.shape)\n",
    "\n",
    "rnc = RadiusNeighborsClassifier(outlier_label=1)\n",
    "\n",
    "params = {'radius': np.arange(0, 5, 0.25)}\n",
    "\n",
    "rnc_grid = GridSearchCV(rnc, params)\n",
    "rnc_grid.fit(X_train, Y_train)\n",
    "\n",
    "best_radius = rnc_grid.best_estimator_.radius\n",
    "best_score = rnc_grid.best_score_\n",
    "print('best train score:', best_score, '\\t at radius:', best_radius)\n",
    "\n",
    "rnc = RadiusNeighborsClassifier(outlier_label=1, radius=best_radius)\n",
    "rnc.fit(X_train, Y_train)\n",
    "best_score  = np.mean(Y_test  == rnc.predict(X_test))\n",
    "print('test score: ', best_score)"
   ]
  },
  {
   "cell_type": "markdown",
   "metadata": {},
   "source": [
    "## *логический классификатор (бинарное решающее дерево); "
   ]
  },
  {
   "cell_type": "code",
   "execution_count": 13,
   "metadata": {},
   "outputs": [
    {
     "name": "stdout",
     "output_type": "stream",
     "text": [
      "best train score: 1.0 \t at features number: 16 \t at depth: 7\n",
      "test score:  1.0\n"
     ]
    }
   ],
   "source": [
    "dtc = DecisionTreeClassifier()\n",
    "\n",
    "params = {'max_depth': list(range(1,22)), 'max_features': list(range(1,22))}\n",
    "\n",
    "dtc_grid = GridSearchCV(dtc, params)\n",
    "dtc_grid.fit(X_train, Y_train)\n",
    "\n",
    "best_features = dtc_grid.best_estimator_.max_features\n",
    "best_depth = dtc_grid.best_estimator_.max_depth\n",
    "best_score = dtc_grid.best_score_\n",
    "print('best train score:', best_score, \n",
    "      '\\t at features number:', best_features,\n",
    "      '\\t at depth:', best_depth)\n",
    "\n",
    "dtc = DecisionTreeClassifier(max_depth=best_depth, max_features=best_features)\n",
    "dtc.fit(X_train, Y_train)\n",
    "best_score  = np.mean(Y_test == dtc.predict(X_test))\n",
    "print('test score: ', best_score)"
   ]
  },
  {
   "cell_type": "code",
   "execution_count": 17,
   "metadata": {},
   "outputs": [],
   "source": [
    "class MyRadiusNeighborsClassifier(RadiusNeighborsClassifier):\n",
    "        \n",
    "    def predict_proba(self, X_test, X_train, Y_train):\n",
    "        \n",
    "        runs = 25\n",
    "        dr = (2*self.radius/runs)    \n",
    "        \n",
    "        radiuses = [dr*i for i in range(runs)]  \n",
    "        percentage = [i/runs for i in range(runs)]\n",
    "        percentage = sorted(percentage, reverse=True)\n",
    "        probas = np.ndarray((len(Y_test),2), dtype=np.float)\n",
    "        for i in range(len(probas)):\n",
    "            probas[i] = [0, 1]\n",
    "        \n",
    "        for i, radius in enumerate(radiuses):\n",
    "            if i==0:\n",
    "                rnc_temp = RadiusNeighborsClassifier(radius, outlier_label=1)\n",
    "                predict_first = rnc_temp.fit(X_train, Y_train).predict(X_test)\n",
    "                continue\n",
    "            else:\n",
    "                predict_second = predict_first\n",
    "                rnc_tmp = RadiusNeighborsClassifier(radius, outlier_label=1)\n",
    "                predict_first = rnc_tmp.fit(X_train, Y_train).predict(X_test)\n",
    "        \n",
    "            for j, (p1, p2) in enumerate(zip(predict_first, predict_second)):\n",
    "                if p1!=p2:\n",
    "                    probas[j,0] = percentage[i]\n",
    "                    probas[j,1] = 1-probas[j,0]\n",
    "                \n",
    "        return probas"
   ]
  },
  {
   "cell_type": "code",
   "execution_count": 18,
   "metadata": {},
   "outputs": [
    {
     "data": {
      "image/png": "[encoded data removed]",
      "text/plain": [
       "<matplotlib.figure.Figure at 0x260224989b0>"
      ]
     },
     "metadata": {},
     "output_type": "display_data"
    },
    {
     "data": {
      "image/png": "[encoded data removed]",
      "text/plain": [
       "<matplotlib.figure.Figure at 0x260223dfe10>"
      ]
     },
     "metadata": {},
     "output_type": "display_data"
    }
   ],
   "source": [
    "\n",
    " # ROC график K соседей и решающего дерева\n",
    "\n",
    "plt.figure(figsize=(10,8))\n",
    "# K ближайщих соседей\n",
    "mrnc = MyRadiusNeighborsClassifier(outlier_label=1, radius=best_radius)\n",
    "probas_mrnc0 = mrnc.predict_proba(X_test, X_train, Y_train)\n",
    "tpr, fpr, thresholds = roc_curve(Y_test, probas_mrnc0[:,0])\n",
    "roc_auc  = auc(fpr, tpr)\n",
    "plt.plot(fpr, tpr, label='%s ROC (area = %f)' % ('RadiusNeighborsClassifier', roc_auc)) \n",
    "# Решающее дерево\n",
    "dtc = DecisionTreeClassifier(max_depth=best_depth, max_features=best_features)\n",
    "probas_dtc0 = dtc.fit(X_train, Y_train).predict_proba(X_test)\n",
    "tpr, fpr, thresholds = roc_curve(Y_test, probas_dtc0[:,0])\n",
    "roc_auc  = auc(fpr, tpr)\n",
    "plt.plot(fpr, tpr, label='%s ROC (area = %f)' % ('DecisionTreeClassifier', roc_auc))   \n",
    "# Вывод графика\n",
    "plt.plot([0, 1], [0, 1], 'k--')\n",
    "plt.xlim([0.0, 1.0])\n",
    "plt.ylim([0.0, 1.0])\n",
    "plt.xlabel('False Positive Rate')\n",
    "plt.ylabel('True Positive Rate')\n",
    "plt.legend(loc=4, fontsize='medium')\n",
    "plt.title('class')\n",
    "plt.show()\n",
    "\n",
    "plt.figure(figsize=(10,8))\n",
    "# K ближайщих соседей\n",
    "mrnc = MyRadiusNeighborsClassifier(outlier_label=1, radius=best_radius)\n",
    "probas_mrnc1 = mrnc.predict_proba(X_test, X_train, Y_train)\n",
    "fpr, tpr, thresholds = roc_curve(Y_test, probas_mrnc1[:,1])\n",
    "roc_auc  = auc(fpr, tpr)\n",
    "plt.plot(fpr, tpr, label='%s ROC (area = %f)' % ('RadiusNeighborsClassifier', roc_auc)) \n",
    "# Решающее дерево\n",
    "dtc = DecisionTreeClassifier(max_depth=best_depth, max_features=best_features)\n",
    "probas_dtc1 = dtc.fit(X_train, Y_train).predict_proba(X_test)\n",
    "fpr, tpr, thresholds = roc_curve(Y_test, probas_dtc1[:,1])\n",
    "roc_auc  = auc(fpr, tpr)\n",
    "plt.plot(fpr, tpr, label='%s ROC (area = %f)' % ('DecisionTreeClassifier', roc_auc))   \n",
    "# Вывод графика\n",
    "plt.plot([0, 1], [0, 1], 'k--')\n",
    "plt.xlim([0.0, 1.0])\n",
    "plt.ylim([0.0, 1.0])\n",
    "plt.xlabel('False Positive Rate')\n",
    "plt.ylabel('True Positive Rate')\n",
    "plt.legend(loc=4, fontsize='medium')\n",
    "plt.title('class')\n",
    "plt.show()"
   ]
  },
  {
   "cell_type": "code",
   "execution_count": 19,
   "metadata": {},
   "outputs": [
    {
     "data": {
      "image/png": "[encoded data removed]",
      "text/plain": [
       "<matplotlib.figure.Figure at 0x260224ef860>"
      ]
     },
     "metadata": {},
     "output_type": "display_data"
    },
    {
     "data": {
      "image/png": "[encoded data removed]",
      "text/plain": [
       "<matplotlib.figure.Figure at 0x260224ce9e8>"
      ]
     },
     "metadata": {},
     "output_type": "display_data"
    }
   ],
   "source": [
    "# PR график K соседей и решающего дерева\n",
    "\n",
    "plt.figure(figsize=(10,8))\n",
    "Y_test_invers = []\n",
    "for i, y in enumerate(Y_test.reset_index(drop=True)):\n",
    "    Y_test_invers.append(1-y)\n",
    "# K ближайщих соседей\n",
    "precision, recall, thresholds = precision_recall_curve(Y_test_invers, probas_mrnc1[:,0])\n",
    "aps_mrnc1 = average_precision_score(Y_test_invers,probas_mrnc1[:,0])\n",
    "plt.plot(recall, precision, label='%s PR (area = %f)' % ('RadiusNeighborsClassifier', aps_mrnc1)) \n",
    "# Решающее дерево\n",
    "precision, recall, thresholds = precision_recall_curve(Y_test_invers, probas_dtc1[:,0])\n",
    "aps_dtc1 = average_precision_score(Y_test_invers,probas_dtc1[:,0])\n",
    "plt.plot(recall, precision, label='%s PR (area = %f)' % ('DecisionTreeClassifier',  aps_dtc1)) \n",
    "# Вывод графика\n",
    "plt.xlabel('Recall')\n",
    "plt.ylabel('Precision')\n",
    "plt.xlim([0.0, 1.0])\n",
    "plt.ylim([0.0, 1.0])\n",
    "plt.legend(loc=4, fontsize='medium')\n",
    "plt.title('class')\n",
    "plt.show()\n",
    "\n",
    "plt.figure(figsize=(10,8))\n",
    "# K ближайщих соседей\n",
    "precision, recall, thresholds = precision_recall_curve(Y_test, probas_mrnc1[:,1])\n",
    "aps_mrnc1 = average_precision_score(Y_test,probas_mrnc1[:,1])\n",
    "plt.plot(recall, precision, label='%s PR (area = %f)' % ('RadiusNeighborsClassifier', aps_mrnc1)) \n",
    "# Решающее дерево\n",
    "precision, recall, thresholds = precision_recall_curve(Y_test, probas_dtc1[:,1])\n",
    "aps_dtc1 = average_precision_score(Y_test,probas_dtc1[:,1])\n",
    "plt.plot(recall, precision, label='%s PR (area = %f)' % ('DecisionTreeClassifier',  aps_dtc1)) \n",
    "# Вывод графика\n",
    "plt.xlabel('Recall')\n",
    "plt.ylabel('Precision')\n",
    "plt.xlim([0.0, 1.0])\n",
    "plt.ylim([0.0, 1.0])\n",
    "plt.legend(loc=4, fontsize='medium')\n",
    "plt.title('class')\n",
    "plt.show()"
   ]
  },
  {
   "cell_type": "markdown",
   "metadata": {},
   "source": [
    "### Вывод: "
   ]
  },
  {
   "cell_type": "markdown",
   "metadata": {},
   "source": [
    "Классификаторы дерево принятия решений и k ближайших соседей(кол-во ближ. объектов) имеют примерно одинаковые показатели качества относительно PR и ROC кривых. В целом, данные классификаторы правильно решают задачу предсказания класса с вероятностью 0.995~ 1.0, что очень точно."
   ]
  },
  {
   "cell_type": "code",
   "execution_count": null,
   "metadata": {},
   "outputs": [],
   "source": []
  }
 ],
 "metadata": {
  "kernelspec": {
   "display_name": "Python 3",
   "language": "python",
   "name": "python3"
  },
  "language_info": {
   "codemirror_mode": {
    "name": "ipython",
    "version": 3
   },
   "file_extension": ".py",
   "mimetype": "text/x-python",
   "name": "python",
   "nbconvert_exporter": "python",
   "pygments_lexer": "ipython3",
   "version": "3.5.4"
  }
 },
 "nbformat": 4,
 "nbformat_minor": 2
}
